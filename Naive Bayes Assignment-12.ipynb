{
 "cells": [
  {
   "cell_type": "raw",
   "id": "98ea5fda-53ae-4423-be4d-88c64c8d1684",
   "metadata": {},
   "source": [
    "Importing Libraries"
   ]
  },
  {
   "cell_type": "code",
   "execution_count": 3,
   "id": "08d82a5a-91e2-4de7-b88f-701f838705a8",
   "metadata": {},
   "outputs": [],
   "source": [
    "import numpy as np\n",
    "import pandas as pd\n",
    "import matplotlib.pyplot as plt\n",
    "import seaborn as sns\n",
    "%matplotlib inline\n",
    "import os\n",
    "import warnings\n",
    "warnings.filterwarnings('ignore')\n",
    "\n",
    "from pandas.plotting import scatter_matrix\n",
    "from sklearn.linear_model import LogisticRegression\n",
    "from sklearn.model_selection import train_test_split \n",
    "from sklearn.model_selection import KFold\n",
    "from sklearn.model_selection import cross_val_score\n",
    "from sklearn import metrics\n",
    "import statsmodels.api as sm\n",
    "\n",
    "from sklearn.datasets import fetch_20newsgroups\n",
    "from sklearn.feature_extraction.text import CountVectorizer\n",
    "from sklearn.naive_bayes import GaussianNB\n",
    "from sklearn.metrics import confusion_matrix"
   ]
  },
  {
   "cell_type": "raw",
   "id": "44641c1c-034c-4ce9-afb6-0903484d1a16",
   "metadata": {},
   "source": [
    "Importing the Dataset"
   ]
  },
  {
   "cell_type": "raw",
   "id": "5f50930a-2e9c-4b0f-8189-cff0f0d3b9ab",
   "metadata": {},
   "source": [
    "salarydata_train = pd.read_csv('SalaryData_Train.csv')\n",
    "salarydata_train"
   ]
  },
  {
   "cell_type": "code",
   "execution_count": 5,
   "id": "c334b588-b5c2-461e-a1ec-057633257210",
   "metadata": {},
   "outputs": [
    {
     "data": {
      "text/html": [
       "<div>\n",
       "<style scoped>\n",
       "    .dataframe tbody tr th:only-of-type {\n",
       "        vertical-align: middle;\n",
       "    }\n",
       "\n",
       "    .dataframe tbody tr th {\n",
       "        vertical-align: top;\n",
       "    }\n",
       "\n",
       "    .dataframe thead th {\n",
       "        text-align: right;\n",
       "    }\n",
       "</style>\n",
       "<table border=\"1\" class=\"dataframe\">\n",
       "  <thead>\n",
       "    <tr style=\"text-align: right;\">\n",
       "      <th></th>\n",
       "      <th>age</th>\n",
       "      <th>workclass</th>\n",
       "      <th>education</th>\n",
       "      <th>educationno</th>\n",
       "      <th>maritalstatus</th>\n",
       "      <th>occupation</th>\n",
       "      <th>relationship</th>\n",
       "      <th>race</th>\n",
       "      <th>sex</th>\n",
       "      <th>capitalgain</th>\n",
       "      <th>capitalloss</th>\n",
       "      <th>hoursperweek</th>\n",
       "      <th>native</th>\n",
       "      <th>Salary</th>\n",
       "    </tr>\n",
       "  </thead>\n",
       "  <tbody>\n",
       "    <tr>\n",
       "      <th>0</th>\n",
       "      <td>25</td>\n",
       "      <td>Private</td>\n",
       "      <td>11th</td>\n",
       "      <td>7</td>\n",
       "      <td>Never-married</td>\n",
       "      <td>Machine-op-inspct</td>\n",
       "      <td>Own-child</td>\n",
       "      <td>Black</td>\n",
       "      <td>Male</td>\n",
       "      <td>0</td>\n",
       "      <td>0</td>\n",
       "      <td>40</td>\n",
       "      <td>United-States</td>\n",
       "      <td>&lt;=50K</td>\n",
       "    </tr>\n",
       "    <tr>\n",
       "      <th>1</th>\n",
       "      <td>38</td>\n",
       "      <td>Private</td>\n",
       "      <td>HS-grad</td>\n",
       "      <td>9</td>\n",
       "      <td>Married-civ-spouse</td>\n",
       "      <td>Farming-fishing</td>\n",
       "      <td>Husband</td>\n",
       "      <td>White</td>\n",
       "      <td>Male</td>\n",
       "      <td>0</td>\n",
       "      <td>0</td>\n",
       "      <td>50</td>\n",
       "      <td>United-States</td>\n",
       "      <td>&lt;=50K</td>\n",
       "    </tr>\n",
       "    <tr>\n",
       "      <th>2</th>\n",
       "      <td>28</td>\n",
       "      <td>Local-gov</td>\n",
       "      <td>Assoc-acdm</td>\n",
       "      <td>12</td>\n",
       "      <td>Married-civ-spouse</td>\n",
       "      <td>Protective-serv</td>\n",
       "      <td>Husband</td>\n",
       "      <td>White</td>\n",
       "      <td>Male</td>\n",
       "      <td>0</td>\n",
       "      <td>0</td>\n",
       "      <td>40</td>\n",
       "      <td>United-States</td>\n",
       "      <td>&gt;50K</td>\n",
       "    </tr>\n",
       "    <tr>\n",
       "      <th>3</th>\n",
       "      <td>44</td>\n",
       "      <td>Private</td>\n",
       "      <td>Some-college</td>\n",
       "      <td>10</td>\n",
       "      <td>Married-civ-spouse</td>\n",
       "      <td>Machine-op-inspct</td>\n",
       "      <td>Husband</td>\n",
       "      <td>Black</td>\n",
       "      <td>Male</td>\n",
       "      <td>7688</td>\n",
       "      <td>0</td>\n",
       "      <td>40</td>\n",
       "      <td>United-States</td>\n",
       "      <td>&gt;50K</td>\n",
       "    </tr>\n",
       "    <tr>\n",
       "      <th>4</th>\n",
       "      <td>34</td>\n",
       "      <td>Private</td>\n",
       "      <td>10th</td>\n",
       "      <td>6</td>\n",
       "      <td>Never-married</td>\n",
       "      <td>Other-service</td>\n",
       "      <td>Not-in-family</td>\n",
       "      <td>White</td>\n",
       "      <td>Male</td>\n",
       "      <td>0</td>\n",
       "      <td>0</td>\n",
       "      <td>30</td>\n",
       "      <td>United-States</td>\n",
       "      <td>&lt;=50K</td>\n",
       "    </tr>\n",
       "    <tr>\n",
       "      <th>...</th>\n",
       "      <td>...</td>\n",
       "      <td>...</td>\n",
       "      <td>...</td>\n",
       "      <td>...</td>\n",
       "      <td>...</td>\n",
       "      <td>...</td>\n",
       "      <td>...</td>\n",
       "      <td>...</td>\n",
       "      <td>...</td>\n",
       "      <td>...</td>\n",
       "      <td>...</td>\n",
       "      <td>...</td>\n",
       "      <td>...</td>\n",
       "      <td>...</td>\n",
       "    </tr>\n",
       "    <tr>\n",
       "      <th>15055</th>\n",
       "      <td>33</td>\n",
       "      <td>Private</td>\n",
       "      <td>Bachelors</td>\n",
       "      <td>13</td>\n",
       "      <td>Never-married</td>\n",
       "      <td>Prof-specialty</td>\n",
       "      <td>Own-child</td>\n",
       "      <td>White</td>\n",
       "      <td>Male</td>\n",
       "      <td>0</td>\n",
       "      <td>0</td>\n",
       "      <td>40</td>\n",
       "      <td>United-States</td>\n",
       "      <td>&lt;=50K</td>\n",
       "    </tr>\n",
       "    <tr>\n",
       "      <th>15056</th>\n",
       "      <td>39</td>\n",
       "      <td>Private</td>\n",
       "      <td>Bachelors</td>\n",
       "      <td>13</td>\n",
       "      <td>Divorced</td>\n",
       "      <td>Prof-specialty</td>\n",
       "      <td>Not-in-family</td>\n",
       "      <td>White</td>\n",
       "      <td>Female</td>\n",
       "      <td>0</td>\n",
       "      <td>0</td>\n",
       "      <td>36</td>\n",
       "      <td>United-States</td>\n",
       "      <td>&lt;=50K</td>\n",
       "    </tr>\n",
       "    <tr>\n",
       "      <th>15057</th>\n",
       "      <td>38</td>\n",
       "      <td>Private</td>\n",
       "      <td>Bachelors</td>\n",
       "      <td>13</td>\n",
       "      <td>Married-civ-spouse</td>\n",
       "      <td>Prof-specialty</td>\n",
       "      <td>Husband</td>\n",
       "      <td>White</td>\n",
       "      <td>Male</td>\n",
       "      <td>0</td>\n",
       "      <td>0</td>\n",
       "      <td>50</td>\n",
       "      <td>United-States</td>\n",
       "      <td>&lt;=50K</td>\n",
       "    </tr>\n",
       "    <tr>\n",
       "      <th>15058</th>\n",
       "      <td>44</td>\n",
       "      <td>Private</td>\n",
       "      <td>Bachelors</td>\n",
       "      <td>13</td>\n",
       "      <td>Divorced</td>\n",
       "      <td>Adm-clerical</td>\n",
       "      <td>Own-child</td>\n",
       "      <td>Asian-Pac-Islander</td>\n",
       "      <td>Male</td>\n",
       "      <td>5455</td>\n",
       "      <td>0</td>\n",
       "      <td>40</td>\n",
       "      <td>United-States</td>\n",
       "      <td>&lt;=50K</td>\n",
       "    </tr>\n",
       "    <tr>\n",
       "      <th>15059</th>\n",
       "      <td>35</td>\n",
       "      <td>Self-emp-inc</td>\n",
       "      <td>Bachelors</td>\n",
       "      <td>13</td>\n",
       "      <td>Married-civ-spouse</td>\n",
       "      <td>Exec-managerial</td>\n",
       "      <td>Husband</td>\n",
       "      <td>White</td>\n",
       "      <td>Male</td>\n",
       "      <td>0</td>\n",
       "      <td>0</td>\n",
       "      <td>60</td>\n",
       "      <td>United-States</td>\n",
       "      <td>&gt;50K</td>\n",
       "    </tr>\n",
       "  </tbody>\n",
       "</table>\n",
       "<p>15060 rows × 14 columns</p>\n",
       "</div>"
      ],
      "text/plain": [
       "       age      workclass      education  educationno        maritalstatus  \\\n",
       "0       25        Private           11th            7        Never-married   \n",
       "1       38        Private        HS-grad            9   Married-civ-spouse   \n",
       "2       28      Local-gov     Assoc-acdm           12   Married-civ-spouse   \n",
       "3       44        Private   Some-college           10   Married-civ-spouse   \n",
       "4       34        Private           10th            6        Never-married   \n",
       "...    ...            ...            ...          ...                  ...   \n",
       "15055   33        Private      Bachelors           13        Never-married   \n",
       "15056   39        Private      Bachelors           13             Divorced   \n",
       "15057   38        Private      Bachelors           13   Married-civ-spouse   \n",
       "15058   44        Private      Bachelors           13             Divorced   \n",
       "15059   35   Self-emp-inc      Bachelors           13   Married-civ-spouse   \n",
       "\n",
       "               occupation    relationship                 race      sex  \\\n",
       "0       Machine-op-inspct       Own-child                Black     Male   \n",
       "1         Farming-fishing         Husband                White     Male   \n",
       "2         Protective-serv         Husband                White     Male   \n",
       "3       Machine-op-inspct         Husband                Black     Male   \n",
       "4           Other-service   Not-in-family                White     Male   \n",
       "...                   ...             ...                  ...      ...   \n",
       "15055      Prof-specialty       Own-child                White     Male   \n",
       "15056      Prof-specialty   Not-in-family                White   Female   \n",
       "15057      Prof-specialty         Husband                White     Male   \n",
       "15058        Adm-clerical       Own-child   Asian-Pac-Islander     Male   \n",
       "15059     Exec-managerial         Husband                White     Male   \n",
       "\n",
       "       capitalgain  capitalloss  hoursperweek          native  Salary  \n",
       "0                0            0            40   United-States   <=50K  \n",
       "1                0            0            50   United-States   <=50K  \n",
       "2                0            0            40   United-States    >50K  \n",
       "3             7688            0            40   United-States    >50K  \n",
       "4                0            0            30   United-States   <=50K  \n",
       "...            ...          ...           ...             ...     ...  \n",
       "15055            0            0            40   United-States   <=50K  \n",
       "15056            0            0            36   United-States   <=50K  \n",
       "15057            0            0            50   United-States   <=50K  \n",
       "15058         5455            0            40   United-States   <=50K  \n",
       "15059            0            0            60   United-States    >50K  \n",
       "\n",
       "[15060 rows x 14 columns]"
      ]
     },
     "execution_count": 5,
     "metadata": {},
     "output_type": "execute_result"
    }
   ],
   "source": [
    "salarydata_test = pd.read_csv('SalaryData_Test.csv')\n",
    "salarydata_test"
   ]
  },
  {
   "cell_type": "raw",
   "id": "bcc53cd7-ed3e-43e6-bf54-a3866af389dc",
   "metadata": {},
   "source": [
    "Exploratory Data Analysis"
   ]
  },
  {
   "cell_type": "code",
   "execution_count": 7,
   "id": "9b2904ee-f2a8-4d2a-aa73-2c8ef5834861",
   "metadata": {},
   "outputs": [
    {
     "data": {
      "text/plain": [
       "(30161, 14)"
      ]
     },
     "execution_count": 7,
     "metadata": {},
     "output_type": "execute_result"
    }
   ],
   "source": [
    "salarydata_train.shape"
   ]
  },
  {
   "cell_type": "raw",
   "id": "e4af168e-579b-421b-834c-25adf98a7859",
   "metadata": {},
   "source": [
    "We can see that there are 30161 instances and 14 attributes in the training data set."
   ]
  },
  {
   "cell_type": "code",
   "execution_count": 8,
   "id": "256f1bc4-27c3-446b-9cb2-9a1f4ede9375",
   "metadata": {},
   "outputs": [
    {
     "data": {
      "text/plain": [
       "(15060, 14)"
      ]
     },
     "execution_count": 8,
     "metadata": {},
     "output_type": "execute_result"
    }
   ],
   "source": [
    "salarydata_test.shape"
   ]
  },
  {
   "cell_type": "raw",
   "id": "39e136c2-ba63-45f3-9c60-c9d970b0e3ec",
   "metadata": {},
   "source": [
    "We can see that there are 15060 instances and 14 attributes in the test data set."
   ]
  },
  {
   "cell_type": "raw",
   "id": "50b3a185-2ff1-4f06-85d1-00bf893fe8df",
   "metadata": {},
   "source": [
    "View top 5 rows of dataset"
   ]
  },
  {
   "cell_type": "code",
   "execution_count": 9,
   "id": "2b6f9c70-90e9-40c8-b031-9f43c4d325e7",
   "metadata": {},
   "outputs": [
    {
     "data": {
      "text/html": [
       "<div>\n",
       "<style scoped>\n",
       "    .dataframe tbody tr th:only-of-type {\n",
       "        vertical-align: middle;\n",
       "    }\n",
       "\n",
       "    .dataframe tbody tr th {\n",
       "        vertical-align: top;\n",
       "    }\n",
       "\n",
       "    .dataframe thead th {\n",
       "        text-align: right;\n",
       "    }\n",
       "</style>\n",
       "<table border=\"1\" class=\"dataframe\">\n",
       "  <thead>\n",
       "    <tr style=\"text-align: right;\">\n",
       "      <th></th>\n",
       "      <th>age</th>\n",
       "      <th>workclass</th>\n",
       "      <th>education</th>\n",
       "      <th>educationno</th>\n",
       "      <th>maritalstatus</th>\n",
       "      <th>occupation</th>\n",
       "      <th>relationship</th>\n",
       "      <th>race</th>\n",
       "      <th>sex</th>\n",
       "      <th>capitalgain</th>\n",
       "      <th>capitalloss</th>\n",
       "      <th>hoursperweek</th>\n",
       "      <th>native</th>\n",
       "      <th>Salary</th>\n",
       "    </tr>\n",
       "  </thead>\n",
       "  <tbody>\n",
       "    <tr>\n",
       "      <th>0</th>\n",
       "      <td>39</td>\n",
       "      <td>State-gov</td>\n",
       "      <td>Bachelors</td>\n",
       "      <td>13</td>\n",
       "      <td>Never-married</td>\n",
       "      <td>Adm-clerical</td>\n",
       "      <td>Not-in-family</td>\n",
       "      <td>White</td>\n",
       "      <td>Male</td>\n",
       "      <td>2174</td>\n",
       "      <td>0</td>\n",
       "      <td>40</td>\n",
       "      <td>United-States</td>\n",
       "      <td>&lt;=50K</td>\n",
       "    </tr>\n",
       "    <tr>\n",
       "      <th>1</th>\n",
       "      <td>50</td>\n",
       "      <td>Self-emp-not-inc</td>\n",
       "      <td>Bachelors</td>\n",
       "      <td>13</td>\n",
       "      <td>Married-civ-spouse</td>\n",
       "      <td>Exec-managerial</td>\n",
       "      <td>Husband</td>\n",
       "      <td>White</td>\n",
       "      <td>Male</td>\n",
       "      <td>0</td>\n",
       "      <td>0</td>\n",
       "      <td>13</td>\n",
       "      <td>United-States</td>\n",
       "      <td>&lt;=50K</td>\n",
       "    </tr>\n",
       "    <tr>\n",
       "      <th>2</th>\n",
       "      <td>38</td>\n",
       "      <td>Private</td>\n",
       "      <td>HS-grad</td>\n",
       "      <td>9</td>\n",
       "      <td>Divorced</td>\n",
       "      <td>Handlers-cleaners</td>\n",
       "      <td>Not-in-family</td>\n",
       "      <td>White</td>\n",
       "      <td>Male</td>\n",
       "      <td>0</td>\n",
       "      <td>0</td>\n",
       "      <td>40</td>\n",
       "      <td>United-States</td>\n",
       "      <td>&lt;=50K</td>\n",
       "    </tr>\n",
       "    <tr>\n",
       "      <th>3</th>\n",
       "      <td>53</td>\n",
       "      <td>Private</td>\n",
       "      <td>11th</td>\n",
       "      <td>7</td>\n",
       "      <td>Married-civ-spouse</td>\n",
       "      <td>Handlers-cleaners</td>\n",
       "      <td>Husband</td>\n",
       "      <td>Black</td>\n",
       "      <td>Male</td>\n",
       "      <td>0</td>\n",
       "      <td>0</td>\n",
       "      <td>40</td>\n",
       "      <td>United-States</td>\n",
       "      <td>&lt;=50K</td>\n",
       "    </tr>\n",
       "    <tr>\n",
       "      <th>4</th>\n",
       "      <td>28</td>\n",
       "      <td>Private</td>\n",
       "      <td>Bachelors</td>\n",
       "      <td>13</td>\n",
       "      <td>Married-civ-spouse</td>\n",
       "      <td>Prof-specialty</td>\n",
       "      <td>Wife</td>\n",
       "      <td>Black</td>\n",
       "      <td>Female</td>\n",
       "      <td>0</td>\n",
       "      <td>0</td>\n",
       "      <td>40</td>\n",
       "      <td>Cuba</td>\n",
       "      <td>&lt;=50K</td>\n",
       "    </tr>\n",
       "  </tbody>\n",
       "</table>\n",
       "</div>"
      ],
      "text/plain": [
       "   age          workclass   education  educationno        maritalstatus  \\\n",
       "0   39          State-gov   Bachelors           13        Never-married   \n",
       "1   50   Self-emp-not-inc   Bachelors           13   Married-civ-spouse   \n",
       "2   38            Private     HS-grad            9             Divorced   \n",
       "3   53            Private        11th            7   Married-civ-spouse   \n",
       "4   28            Private   Bachelors           13   Married-civ-spouse   \n",
       "\n",
       "           occupation    relationship    race      sex  capitalgain  \\\n",
       "0        Adm-clerical   Not-in-family   White     Male         2174   \n",
       "1     Exec-managerial         Husband   White     Male            0   \n",
       "2   Handlers-cleaners   Not-in-family   White     Male            0   \n",
       "3   Handlers-cleaners         Husband   Black     Male            0   \n",
       "4      Prof-specialty            Wife   Black   Female            0   \n",
       "\n",
       "   capitalloss  hoursperweek          native  Salary  \n",
       "0            0            40   United-States   <=50K  \n",
       "1            0            13   United-States   <=50K  \n",
       "2            0            40   United-States   <=50K  \n",
       "3            0            40   United-States   <=50K  \n",
       "4            0            40            Cuba   <=50K  "
      ]
     },
     "execution_count": 9,
     "metadata": {},
     "output_type": "execute_result"
    }
   ],
   "source": [
    "# preview the Training dataset\n",
    "\n",
    "salarydata_train.head()"
   ]
  },
  {
   "cell_type": "code",
   "execution_count": 10,
   "id": "edff9c3d-522c-46b4-ad2d-d1d81ed483de",
   "metadata": {},
   "outputs": [
    {
     "data": {
      "text/html": [
       "<div>\n",
       "<style scoped>\n",
       "    .dataframe tbody tr th:only-of-type {\n",
       "        vertical-align: middle;\n",
       "    }\n",
       "\n",
       "    .dataframe tbody tr th {\n",
       "        vertical-align: top;\n",
       "    }\n",
       "\n",
       "    .dataframe thead th {\n",
       "        text-align: right;\n",
       "    }\n",
       "</style>\n",
       "<table border=\"1\" class=\"dataframe\">\n",
       "  <thead>\n",
       "    <tr style=\"text-align: right;\">\n",
       "      <th></th>\n",
       "      <th>age</th>\n",
       "      <th>workclass</th>\n",
       "      <th>education</th>\n",
       "      <th>educationno</th>\n",
       "      <th>maritalstatus</th>\n",
       "      <th>occupation</th>\n",
       "      <th>relationship</th>\n",
       "      <th>race</th>\n",
       "      <th>sex</th>\n",
       "      <th>capitalgain</th>\n",
       "      <th>capitalloss</th>\n",
       "      <th>hoursperweek</th>\n",
       "      <th>native</th>\n",
       "      <th>Salary</th>\n",
       "    </tr>\n",
       "  </thead>\n",
       "  <tbody>\n",
       "    <tr>\n",
       "      <th>0</th>\n",
       "      <td>25</td>\n",
       "      <td>Private</td>\n",
       "      <td>11th</td>\n",
       "      <td>7</td>\n",
       "      <td>Never-married</td>\n",
       "      <td>Machine-op-inspct</td>\n",
       "      <td>Own-child</td>\n",
       "      <td>Black</td>\n",
       "      <td>Male</td>\n",
       "      <td>0</td>\n",
       "      <td>0</td>\n",
       "      <td>40</td>\n",
       "      <td>United-States</td>\n",
       "      <td>&lt;=50K</td>\n",
       "    </tr>\n",
       "    <tr>\n",
       "      <th>1</th>\n",
       "      <td>38</td>\n",
       "      <td>Private</td>\n",
       "      <td>HS-grad</td>\n",
       "      <td>9</td>\n",
       "      <td>Married-civ-spouse</td>\n",
       "      <td>Farming-fishing</td>\n",
       "      <td>Husband</td>\n",
       "      <td>White</td>\n",
       "      <td>Male</td>\n",
       "      <td>0</td>\n",
       "      <td>0</td>\n",
       "      <td>50</td>\n",
       "      <td>United-States</td>\n",
       "      <td>&lt;=50K</td>\n",
       "    </tr>\n",
       "    <tr>\n",
       "      <th>2</th>\n",
       "      <td>28</td>\n",
       "      <td>Local-gov</td>\n",
       "      <td>Assoc-acdm</td>\n",
       "      <td>12</td>\n",
       "      <td>Married-civ-spouse</td>\n",
       "      <td>Protective-serv</td>\n",
       "      <td>Husband</td>\n",
       "      <td>White</td>\n",
       "      <td>Male</td>\n",
       "      <td>0</td>\n",
       "      <td>0</td>\n",
       "      <td>40</td>\n",
       "      <td>United-States</td>\n",
       "      <td>&gt;50K</td>\n",
       "    </tr>\n",
       "    <tr>\n",
       "      <th>3</th>\n",
       "      <td>44</td>\n",
       "      <td>Private</td>\n",
       "      <td>Some-college</td>\n",
       "      <td>10</td>\n",
       "      <td>Married-civ-spouse</td>\n",
       "      <td>Machine-op-inspct</td>\n",
       "      <td>Husband</td>\n",
       "      <td>Black</td>\n",
       "      <td>Male</td>\n",
       "      <td>7688</td>\n",
       "      <td>0</td>\n",
       "      <td>40</td>\n",
       "      <td>United-States</td>\n",
       "      <td>&gt;50K</td>\n",
       "    </tr>\n",
       "    <tr>\n",
       "      <th>4</th>\n",
       "      <td>34</td>\n",
       "      <td>Private</td>\n",
       "      <td>10th</td>\n",
       "      <td>6</td>\n",
       "      <td>Never-married</td>\n",
       "      <td>Other-service</td>\n",
       "      <td>Not-in-family</td>\n",
       "      <td>White</td>\n",
       "      <td>Male</td>\n",
       "      <td>0</td>\n",
       "      <td>0</td>\n",
       "      <td>30</td>\n",
       "      <td>United-States</td>\n",
       "      <td>&lt;=50K</td>\n",
       "    </tr>\n",
       "  </tbody>\n",
       "</table>\n",
       "</div>"
      ],
      "text/plain": [
       "   age   workclass      education  educationno        maritalstatus  \\\n",
       "0   25     Private           11th            7        Never-married   \n",
       "1   38     Private        HS-grad            9   Married-civ-spouse   \n",
       "2   28   Local-gov     Assoc-acdm           12   Married-civ-spouse   \n",
       "3   44     Private   Some-college           10   Married-civ-spouse   \n",
       "4   34     Private           10th            6        Never-married   \n",
       "\n",
       "           occupation    relationship    race    sex  capitalgain  \\\n",
       "0   Machine-op-inspct       Own-child   Black   Male            0   \n",
       "1     Farming-fishing         Husband   White   Male            0   \n",
       "2     Protective-serv         Husband   White   Male            0   \n",
       "3   Machine-op-inspct         Husband   Black   Male         7688   \n",
       "4       Other-service   Not-in-family   White   Male            0   \n",
       "\n",
       "   capitalloss  hoursperweek          native  Salary  \n",
       "0            0            40   United-States   <=50K  \n",
       "1            0            50   United-States   <=50K  \n",
       "2            0            40   United-States    >50K  \n",
       "3            0            40   United-States    >50K  \n",
       "4            0            30   United-States   <=50K  "
      ]
     },
     "execution_count": 10,
     "metadata": {},
     "output_type": "execute_result"
    }
   ],
   "source": [
    "# preview the Test dataset\n",
    "\n",
    "salarydata_test.head()"
   ]
  },
  {
   "cell_type": "raw",
   "id": "dbe0f8de-166a-421a-9e82-b81f36844fd2",
   "metadata": {},
   "source": [
    "View summary of Training dataset"
   ]
  },
  {
   "cell_type": "code",
   "execution_count": 11,
   "id": "aecc403d-9c09-40e9-83d2-49fab96bcc8d",
   "metadata": {},
   "outputs": [
    {
     "name": "stdout",
     "output_type": "stream",
     "text": [
      "<class 'pandas.core.frame.DataFrame'>\n",
      "RangeIndex: 30161 entries, 0 to 30160\n",
      "Data columns (total 14 columns):\n",
      " #   Column         Non-Null Count  Dtype \n",
      "---  ------         --------------  ----- \n",
      " 0   age            30161 non-null  int64 \n",
      " 1   workclass      30161 non-null  object\n",
      " 2   education      30161 non-null  object\n",
      " 3   educationno    30161 non-null  int64 \n",
      " 4   maritalstatus  30161 non-null  object\n",
      " 5   occupation     30161 non-null  object\n",
      " 6   relationship   30161 non-null  object\n",
      " 7   race           30161 non-null  object\n",
      " 8   sex            30161 non-null  object\n",
      " 9   capitalgain    30161 non-null  int64 \n",
      " 10  capitalloss    30161 non-null  int64 \n",
      " 11  hoursperweek   30161 non-null  int64 \n",
      " 12  native         30161 non-null  object\n",
      " 13  Salary         30161 non-null  object\n",
      "dtypes: int64(5), object(9)\n",
      "memory usage: 3.2+ MB\n"
     ]
    }
   ],
   "source": [
    "salarydata_train.info()"
   ]
  },
  {
   "cell_type": "code",
   "execution_count": 12,
   "id": "018635e4-0dfc-44d7-a99e-7ae5e8017662",
   "metadata": {},
   "outputs": [
    {
     "data": {
      "text/html": [
       "<div>\n",
       "<style scoped>\n",
       "    .dataframe tbody tr th:only-of-type {\n",
       "        vertical-align: middle;\n",
       "    }\n",
       "\n",
       "    .dataframe tbody tr th {\n",
       "        vertical-align: top;\n",
       "    }\n",
       "\n",
       "    .dataframe thead th {\n",
       "        text-align: right;\n",
       "    }\n",
       "</style>\n",
       "<table border=\"1\" class=\"dataframe\">\n",
       "  <thead>\n",
       "    <tr style=\"text-align: right;\">\n",
       "      <th></th>\n",
       "      <th>age</th>\n",
       "      <th>educationno</th>\n",
       "      <th>capitalgain</th>\n",
       "      <th>capitalloss</th>\n",
       "      <th>hoursperweek</th>\n",
       "    </tr>\n",
       "  </thead>\n",
       "  <tbody>\n",
       "    <tr>\n",
       "      <th>count</th>\n",
       "      <td>30161.000000</td>\n",
       "      <td>30161.000000</td>\n",
       "      <td>30161.000000</td>\n",
       "      <td>30161.000000</td>\n",
       "      <td>30161.000000</td>\n",
       "    </tr>\n",
       "    <tr>\n",
       "      <th>mean</th>\n",
       "      <td>38.438115</td>\n",
       "      <td>10.121316</td>\n",
       "      <td>1092.044064</td>\n",
       "      <td>88.302311</td>\n",
       "      <td>40.931269</td>\n",
       "    </tr>\n",
       "    <tr>\n",
       "      <th>std</th>\n",
       "      <td>13.134830</td>\n",
       "      <td>2.550037</td>\n",
       "      <td>7406.466611</td>\n",
       "      <td>404.121321</td>\n",
       "      <td>11.980182</td>\n",
       "    </tr>\n",
       "    <tr>\n",
       "      <th>min</th>\n",
       "      <td>17.000000</td>\n",
       "      <td>1.000000</td>\n",
       "      <td>0.000000</td>\n",
       "      <td>0.000000</td>\n",
       "      <td>1.000000</td>\n",
       "    </tr>\n",
       "    <tr>\n",
       "      <th>25%</th>\n",
       "      <td>28.000000</td>\n",
       "      <td>9.000000</td>\n",
       "      <td>0.000000</td>\n",
       "      <td>0.000000</td>\n",
       "      <td>40.000000</td>\n",
       "    </tr>\n",
       "    <tr>\n",
       "      <th>50%</th>\n",
       "      <td>37.000000</td>\n",
       "      <td>10.000000</td>\n",
       "      <td>0.000000</td>\n",
       "      <td>0.000000</td>\n",
       "      <td>40.000000</td>\n",
       "    </tr>\n",
       "    <tr>\n",
       "      <th>75%</th>\n",
       "      <td>47.000000</td>\n",
       "      <td>13.000000</td>\n",
       "      <td>0.000000</td>\n",
       "      <td>0.000000</td>\n",
       "      <td>45.000000</td>\n",
       "    </tr>\n",
       "    <tr>\n",
       "      <th>max</th>\n",
       "      <td>90.000000</td>\n",
       "      <td>16.000000</td>\n",
       "      <td>99999.000000</td>\n",
       "      <td>4356.000000</td>\n",
       "      <td>99.000000</td>\n",
       "    </tr>\n",
       "  </tbody>\n",
       "</table>\n",
       "</div>"
      ],
      "text/plain": [
       "                age   educationno   capitalgain   capitalloss  hoursperweek\n",
       "count  30161.000000  30161.000000  30161.000000  30161.000000  30161.000000\n",
       "mean      38.438115     10.121316   1092.044064     88.302311     40.931269\n",
       "std       13.134830      2.550037   7406.466611    404.121321     11.980182\n",
       "min       17.000000      1.000000      0.000000      0.000000      1.000000\n",
       "25%       28.000000      9.000000      0.000000      0.000000     40.000000\n",
       "50%       37.000000     10.000000      0.000000      0.000000     40.000000\n",
       "75%       47.000000     13.000000      0.000000      0.000000     45.000000\n",
       "max       90.000000     16.000000  99999.000000   4356.000000     99.000000"
      ]
     },
     "execution_count": 12,
     "metadata": {},
     "output_type": "execute_result"
    }
   ],
   "source": [
    "salarydata_train.describe()"
   ]
  },
  {
   "cell_type": "code",
   "execution_count": 13,
   "id": "5d6cc8a2-aa8c-4ea3-b5b5-95f4b2a75ac4",
   "metadata": {},
   "outputs": [
    {
     "name": "stdout",
     "output_type": "stream",
     "text": [
      "<class 'pandas.core.frame.DataFrame'>\n",
      "RangeIndex: 15060 entries, 0 to 15059\n",
      "Data columns (total 14 columns):\n",
      " #   Column         Non-Null Count  Dtype \n",
      "---  ------         --------------  ----- \n",
      " 0   age            15060 non-null  int64 \n",
      " 1   workclass      15060 non-null  object\n",
      " 2   education      15060 non-null  object\n",
      " 3   educationno    15060 non-null  int64 \n",
      " 4   maritalstatus  15060 non-null  object\n",
      " 5   occupation     15060 non-null  object\n",
      " 6   relationship   15060 non-null  object\n",
      " 7   race           15060 non-null  object\n",
      " 8   sex            15060 non-null  object\n",
      " 9   capitalgain    15060 non-null  int64 \n",
      " 10  capitalloss    15060 non-null  int64 \n",
      " 11  hoursperweek   15060 non-null  int64 \n",
      " 12  native         15060 non-null  object\n",
      " 13  Salary         15060 non-null  object\n",
      "dtypes: int64(5), object(9)\n",
      "memory usage: 1.6+ MB\n"
     ]
    }
   ],
   "source": [
    "salarydata_test.info()"
   ]
  },
  {
   "cell_type": "code",
   "execution_count": 14,
   "id": "317655c9-09e0-48ed-9d86-8d1591afab03",
   "metadata": {},
   "outputs": [
    {
     "data": {
      "text/html": [
       "<div>\n",
       "<style scoped>\n",
       "    .dataframe tbody tr th:only-of-type {\n",
       "        vertical-align: middle;\n",
       "    }\n",
       "\n",
       "    .dataframe tbody tr th {\n",
       "        vertical-align: top;\n",
       "    }\n",
       "\n",
       "    .dataframe thead th {\n",
       "        text-align: right;\n",
       "    }\n",
       "</style>\n",
       "<table border=\"1\" class=\"dataframe\">\n",
       "  <thead>\n",
       "    <tr style=\"text-align: right;\">\n",
       "      <th></th>\n",
       "      <th>age</th>\n",
       "      <th>educationno</th>\n",
       "      <th>capitalgain</th>\n",
       "      <th>capitalloss</th>\n",
       "      <th>hoursperweek</th>\n",
       "    </tr>\n",
       "  </thead>\n",
       "  <tbody>\n",
       "    <tr>\n",
       "      <th>count</th>\n",
       "      <td>15060.000000</td>\n",
       "      <td>15060.000000</td>\n",
       "      <td>15060.000000</td>\n",
       "      <td>15060.000000</td>\n",
       "      <td>15060.000000</td>\n",
       "    </tr>\n",
       "    <tr>\n",
       "      <th>mean</th>\n",
       "      <td>38.768327</td>\n",
       "      <td>10.112749</td>\n",
       "      <td>1120.301594</td>\n",
       "      <td>89.041899</td>\n",
       "      <td>40.951594</td>\n",
       "    </tr>\n",
       "    <tr>\n",
       "      <th>std</th>\n",
       "      <td>13.380676</td>\n",
       "      <td>2.558727</td>\n",
       "      <td>7703.181842</td>\n",
       "      <td>406.283245</td>\n",
       "      <td>12.062831</td>\n",
       "    </tr>\n",
       "    <tr>\n",
       "      <th>min</th>\n",
       "      <td>17.000000</td>\n",
       "      <td>1.000000</td>\n",
       "      <td>0.000000</td>\n",
       "      <td>0.000000</td>\n",
       "      <td>1.000000</td>\n",
       "    </tr>\n",
       "    <tr>\n",
       "      <th>25%</th>\n",
       "      <td>28.000000</td>\n",
       "      <td>9.000000</td>\n",
       "      <td>0.000000</td>\n",
       "      <td>0.000000</td>\n",
       "      <td>40.000000</td>\n",
       "    </tr>\n",
       "    <tr>\n",
       "      <th>50%</th>\n",
       "      <td>37.000000</td>\n",
       "      <td>10.000000</td>\n",
       "      <td>0.000000</td>\n",
       "      <td>0.000000</td>\n",
       "      <td>40.000000</td>\n",
       "    </tr>\n",
       "    <tr>\n",
       "      <th>75%</th>\n",
       "      <td>48.000000</td>\n",
       "      <td>13.000000</td>\n",
       "      <td>0.000000</td>\n",
       "      <td>0.000000</td>\n",
       "      <td>45.000000</td>\n",
       "    </tr>\n",
       "    <tr>\n",
       "      <th>max</th>\n",
       "      <td>90.000000</td>\n",
       "      <td>16.000000</td>\n",
       "      <td>99999.000000</td>\n",
       "      <td>3770.000000</td>\n",
       "      <td>99.000000</td>\n",
       "    </tr>\n",
       "  </tbody>\n",
       "</table>\n",
       "</div>"
      ],
      "text/plain": [
       "                age   educationno   capitalgain   capitalloss  hoursperweek\n",
       "count  15060.000000  15060.000000  15060.000000  15060.000000  15060.000000\n",
       "mean      38.768327     10.112749   1120.301594     89.041899     40.951594\n",
       "std       13.380676      2.558727   7703.181842    406.283245     12.062831\n",
       "min       17.000000      1.000000      0.000000      0.000000      1.000000\n",
       "25%       28.000000      9.000000      0.000000      0.000000     40.000000\n",
       "50%       37.000000     10.000000      0.000000      0.000000     40.000000\n",
       "75%       48.000000     13.000000      0.000000      0.000000     45.000000\n",
       "max       90.000000     16.000000  99999.000000   3770.000000     99.000000"
      ]
     },
     "execution_count": 14,
     "metadata": {},
     "output_type": "execute_result"
    }
   ],
   "source": [
    "salarydata_test.describe()"
   ]
  },
  {
   "cell_type": "code",
   "execution_count": 15,
   "id": "e137ca48-8cca-4b14-8f72-ab6744b818a0",
   "metadata": {},
   "outputs": [
    {
     "data": {
      "text/plain": [
       "age              0\n",
       "workclass        0\n",
       "education        0\n",
       "educationno      0\n",
       "maritalstatus    0\n",
       "occupation       0\n",
       "relationship     0\n",
       "race             0\n",
       "sex              0\n",
       "capitalgain      0\n",
       "capitalloss      0\n",
       "hoursperweek     0\n",
       "native           0\n",
       "Salary           0\n",
       "dtype: int64"
      ]
     },
     "execution_count": 15,
     "metadata": {},
     "output_type": "execute_result"
    }
   ],
   "source": [
    "#Finding the special characters in the data frame \n",
    "salarydata_train.isin(['?']).sum(axis=0)"
   ]
  },
  {
   "cell_type": "code",
   "execution_count": 16,
   "id": "05ba2413-8895-4bcd-980b-7206352051a6",
   "metadata": {},
   "outputs": [
    {
     "data": {
      "text/plain": [
       "age              0\n",
       "workclass        0\n",
       "education        0\n",
       "educationno      0\n",
       "maritalstatus    0\n",
       "occupation       0\n",
       "relationship     0\n",
       "race             0\n",
       "sex              0\n",
       "capitalgain      0\n",
       "capitalloss      0\n",
       "hoursperweek     0\n",
       "native           0\n",
       "Salary           0\n",
       "dtype: int64"
      ]
     },
     "execution_count": 16,
     "metadata": {},
     "output_type": "execute_result"
    }
   ],
   "source": [
    "#Finding the special characters in the data frame \n",
    "salarydata_test.isin(['?']).sum(axis=0)"
   ]
  },
  {
   "cell_type": "code",
   "execution_count": 17,
   "id": "8a54afda-6239-44a5-b548-1ede61969d71",
   "metadata": {},
   "outputs": [
    {
     "name": "stdout",
     "output_type": "stream",
     "text": [
      "   age          workclass   education  educationno        maritalstatus  \\\n",
      "0   39          State-gov   Bachelors           13        Never-married   \n",
      "1   50   Self-emp-not-inc   Bachelors           13   Married-civ-spouse   \n",
      "2   38            Private     HS-grad            9             Divorced   \n",
      "3   53            Private        11th            7   Married-civ-spouse   \n",
      "4   28            Private   Bachelors           13   Married-civ-spouse   \n",
      "\n",
      "           occupation    relationship    race      sex  capitalgain  \\\n",
      "0        Adm-clerical   Not-in-family   White     Male         2174   \n",
      "1     Exec-managerial         Husband   White     Male            0   \n",
      "2   Handlers-cleaners   Not-in-family   White     Male            0   \n",
      "3   Handlers-cleaners         Husband   Black     Male            0   \n",
      "4      Prof-specialty            Wife   Black   Female            0   \n",
      "\n",
      "   capitalloss  hoursperweek          native  Salary  \n",
      "0            0            40   United-States   <=50K  \n",
      "1            0            13   United-States   <=50K  \n",
      "2            0            40   United-States   <=50K  \n",
      "3            0            40   United-States   <=50K  \n",
      "4            0            40            Cuba   <=50K  \n"
     ]
    }
   ],
   "source": [
    "print(salarydata_train[0:5])"
   ]
  },
  {
   "cell_type": "raw",
   "id": "9a9dbecb-ea28-40e3-9db6-1249e344df82",
   "metadata": {},
   "source": [
    "Explore categorical variables"
   ]
  },
  {
   "cell_type": "code",
   "execution_count": 18,
   "id": "4497553e-e921-47f0-8646-749912859f61",
   "metadata": {},
   "outputs": [
    {
     "name": "stdout",
     "output_type": "stream",
     "text": [
      "There are 9 categorical variables\n",
      "\n",
      "The categorical variables are :\n",
      "\n",
      " ['workclass', 'education', 'maritalstatus', 'occupation', 'relationship', 'race', 'sex', 'native', 'Salary']\n"
     ]
    }
   ],
   "source": [
    "# find categorical variables\n",
    "\n",
    "categorical = [var for var in salarydata_train.columns if salarydata_train[var].dtype=='O']\n",
    "\n",
    "print('There are {} categorical variables\\n'.format(len(categorical)))\n",
    "\n",
    "print('The categorical variables are :\\n\\n', categorical)"
   ]
  },
  {
   "cell_type": "code",
   "execution_count": 19,
   "id": "a6849601-9ca2-4f51-8a39-1d8efcc7a5f3",
   "metadata": {},
   "outputs": [
    {
     "data": {
      "text/html": [
       "<div>\n",
       "<style scoped>\n",
       "    .dataframe tbody tr th:only-of-type {\n",
       "        vertical-align: middle;\n",
       "    }\n",
       "\n",
       "    .dataframe tbody tr th {\n",
       "        vertical-align: top;\n",
       "    }\n",
       "\n",
       "    .dataframe thead th {\n",
       "        text-align: right;\n",
       "    }\n",
       "</style>\n",
       "<table border=\"1\" class=\"dataframe\">\n",
       "  <thead>\n",
       "    <tr style=\"text-align: right;\">\n",
       "      <th></th>\n",
       "      <th>workclass</th>\n",
       "      <th>education</th>\n",
       "      <th>maritalstatus</th>\n",
       "      <th>occupation</th>\n",
       "      <th>relationship</th>\n",
       "      <th>race</th>\n",
       "      <th>sex</th>\n",
       "      <th>native</th>\n",
       "      <th>Salary</th>\n",
       "    </tr>\n",
       "  </thead>\n",
       "  <tbody>\n",
       "    <tr>\n",
       "      <th>0</th>\n",
       "      <td>State-gov</td>\n",
       "      <td>Bachelors</td>\n",
       "      <td>Never-married</td>\n",
       "      <td>Adm-clerical</td>\n",
       "      <td>Not-in-family</td>\n",
       "      <td>White</td>\n",
       "      <td>Male</td>\n",
       "      <td>United-States</td>\n",
       "      <td>&lt;=50K</td>\n",
       "    </tr>\n",
       "    <tr>\n",
       "      <th>1</th>\n",
       "      <td>Self-emp-not-inc</td>\n",
       "      <td>Bachelors</td>\n",
       "      <td>Married-civ-spouse</td>\n",
       "      <td>Exec-managerial</td>\n",
       "      <td>Husband</td>\n",
       "      <td>White</td>\n",
       "      <td>Male</td>\n",
       "      <td>United-States</td>\n",
       "      <td>&lt;=50K</td>\n",
       "    </tr>\n",
       "    <tr>\n",
       "      <th>2</th>\n",
       "      <td>Private</td>\n",
       "      <td>HS-grad</td>\n",
       "      <td>Divorced</td>\n",
       "      <td>Handlers-cleaners</td>\n",
       "      <td>Not-in-family</td>\n",
       "      <td>White</td>\n",
       "      <td>Male</td>\n",
       "      <td>United-States</td>\n",
       "      <td>&lt;=50K</td>\n",
       "    </tr>\n",
       "    <tr>\n",
       "      <th>3</th>\n",
       "      <td>Private</td>\n",
       "      <td>11th</td>\n",
       "      <td>Married-civ-spouse</td>\n",
       "      <td>Handlers-cleaners</td>\n",
       "      <td>Husband</td>\n",
       "      <td>Black</td>\n",
       "      <td>Male</td>\n",
       "      <td>United-States</td>\n",
       "      <td>&lt;=50K</td>\n",
       "    </tr>\n",
       "    <tr>\n",
       "      <th>4</th>\n",
       "      <td>Private</td>\n",
       "      <td>Bachelors</td>\n",
       "      <td>Married-civ-spouse</td>\n",
       "      <td>Prof-specialty</td>\n",
       "      <td>Wife</td>\n",
       "      <td>Black</td>\n",
       "      <td>Female</td>\n",
       "      <td>Cuba</td>\n",
       "      <td>&lt;=50K</td>\n",
       "    </tr>\n",
       "  </tbody>\n",
       "</table>\n",
       "</div>"
      ],
      "text/plain": [
       "           workclass   education        maritalstatus          occupation  \\\n",
       "0          State-gov   Bachelors        Never-married        Adm-clerical   \n",
       "1   Self-emp-not-inc   Bachelors   Married-civ-spouse     Exec-managerial   \n",
       "2            Private     HS-grad             Divorced   Handlers-cleaners   \n",
       "3            Private        11th   Married-civ-spouse   Handlers-cleaners   \n",
       "4            Private   Bachelors   Married-civ-spouse      Prof-specialty   \n",
       "\n",
       "     relationship    race      sex          native  Salary  \n",
       "0   Not-in-family   White     Male   United-States   <=50K  \n",
       "1         Husband   White     Male   United-States   <=50K  \n",
       "2   Not-in-family   White     Male   United-States   <=50K  \n",
       "3         Husband   Black     Male   United-States   <=50K  \n",
       "4            Wife   Black   Female            Cuba   <=50K  "
      ]
     },
     "execution_count": 19,
     "metadata": {},
     "output_type": "execute_result"
    }
   ],
   "source": [
    "# view the categorical variables\n",
    "\n",
    "salarydata_train[categorical].head()"
   ]
  },
  {
   "cell_type": "raw",
   "id": "2c2e174f-6ea7-4732-bde9-38e7a2e09547",
   "metadata": {},
   "source": [
    "Summary of categorical variables\n",
    "\n",
    "There are 9 categorical variables.\n",
    "\n",
    "The categorical variables are given by workclass, education, maritalstatus, occupation, relationship, race, sex, native and Salary.\n",
    "\n",
    "Salary is the target variable."
   ]
  },
  {
   "cell_type": "raw",
   "id": "5e528221-dffc-40ca-8e77-d0408a855f32",
   "metadata": {},
   "source": [
    "Explore problems within categorical variables"
   ]
  },
  {
   "cell_type": "code",
   "execution_count": 20,
   "id": "eb92343f-5dac-46df-98db-dae95b14dcb5",
   "metadata": {},
   "outputs": [
    {
     "data": {
      "text/plain": [
       "workclass        0\n",
       "education        0\n",
       "maritalstatus    0\n",
       "occupation       0\n",
       "relationship     0\n",
       "race             0\n",
       "sex              0\n",
       "native           0\n",
       "Salary           0\n",
       "dtype: int64"
      ]
     },
     "execution_count": 20,
     "metadata": {},
     "output_type": "execute_result"
    }
   ],
   "source": [
    "# check missing values in categorical variables\n",
    "salarydata_train[categorical].isnull().sum()"
   ]
  },
  {
   "cell_type": "code",
   "execution_count": 21,
   "id": "551f503f-9d97-4142-8ce8-5377d2ea1bf6",
   "metadata": {},
   "outputs": [
    {
     "name": "stdout",
     "output_type": "stream",
     "text": [
      "workclass\n",
      " Private             22285\n",
      " Self-emp-not-inc     2499\n",
      " Local-gov            2067\n",
      " State-gov            1279\n",
      " Self-emp-inc         1074\n",
      " Federal-gov           943\n",
      " Without-pay            14\n",
      "Name: count, dtype: int64\n",
      "education\n",
      " HS-grad         9840\n",
      " Some-college    6677\n",
      " Bachelors       5044\n",
      " Masters         1627\n",
      " Assoc-voc       1307\n",
      " 11th            1048\n",
      " Assoc-acdm      1008\n",
      " 10th             820\n",
      " 7th-8th          557\n",
      " Prof-school      542\n",
      " 9th              455\n",
      " 12th             377\n",
      " Doctorate        375\n",
      " 5th-6th          288\n",
      " 1st-4th          151\n",
      " Preschool         45\n",
      "Name: count, dtype: int64\n",
      "maritalstatus\n",
      " Married-civ-spouse       14065\n",
      " Never-married             9725\n",
      " Divorced                  4214\n",
      " Separated                  939\n",
      " Widowed                    827\n",
      " Married-spouse-absent      370\n",
      " Married-AF-spouse           21\n",
      "Name: count, dtype: int64\n",
      "occupation\n",
      " Prof-specialty       4038\n",
      " Craft-repair         4030\n",
      " Exec-managerial      3992\n",
      " Adm-clerical         3721\n",
      " Sales                3584\n",
      " Other-service        3212\n",
      " Machine-op-inspct    1965\n",
      " Transport-moving     1572\n",
      " Handlers-cleaners    1350\n",
      " Farming-fishing       989\n",
      " Tech-support          912\n",
      " Protective-serv       644\n",
      " Priv-house-serv       143\n",
      " Armed-Forces            9\n",
      "Name: count, dtype: int64\n",
      "relationship\n",
      " Husband           12463\n",
      " Not-in-family      7726\n",
      " Own-child          4466\n",
      " Unmarried          3212\n",
      " Wife               1406\n",
      " Other-relative      888\n",
      "Name: count, dtype: int64\n",
      "race\n",
      " White                 25932\n",
      " Black                  2817\n",
      " Asian-Pac-Islander      895\n",
      " Amer-Indian-Eskimo      286\n",
      " Other                   231\n",
      "Name: count, dtype: int64\n",
      "sex\n",
      " Male      20380\n",
      " Female     9781\n",
      "Name: count, dtype: int64\n",
      "native\n",
      " United-States                 27504\n",
      " Mexico                          610\n",
      " Philippines                     188\n",
      " Germany                         128\n",
      " Puerto-Rico                     109\n",
      " Canada                          107\n",
      " India                           100\n",
      " El-Salvador                     100\n",
      " Cuba                             92\n",
      " England                          86\n",
      " Jamaica                          80\n",
      " South                            71\n",
      " China                            68\n",
      " Italy                            68\n",
      " Dominican-Republic               67\n",
      " Vietnam                          64\n",
      " Guatemala                        63\n",
      " Japan                            59\n",
      " Poland                           56\n",
      " Columbia                         56\n",
      " Iran                             42\n",
      " Taiwan                           42\n",
      " Haiti                            42\n",
      " Portugal                         34\n",
      " Nicaragua                        33\n",
      " Peru                             30\n",
      " Greece                           29\n",
      " France                           27\n",
      " Ecuador                          27\n",
      " Ireland                          24\n",
      " Hong                             19\n",
      " Cambodia                         18\n",
      " Trinadad&Tobago                  18\n",
      " Laos                             17\n",
      " Thailand                         17\n",
      " Yugoslavia                       16\n",
      " Outlying-US(Guam-USVI-etc)       14\n",
      " Hungary                          13\n",
      " Honduras                         12\n",
      " Scotland                         11\n",
      "Name: count, dtype: int64\n",
      "Salary\n",
      " <=50K    22653\n",
      " >50K      7508\n",
      "Name: count, dtype: int64\n"
     ]
    }
   ],
   "source": [
    "# view frequency counts of values in categorical variables\n",
    "\n",
    "for var in categorical: \n",
    "    \n",
    "    print(salarydata_train[var].value_counts())"
   ]
  },
  {
   "cell_type": "code",
   "execution_count": 24,
   "id": "2d7df279-61a6-4ae3-ab5d-3540637e2c5f",
   "metadata": {},
   "outputs": [
    {
     "name": "stdout",
     "output_type": "stream",
     "text": [
      "workclass\n",
      " Private             0.738868\n",
      " Self-emp-not-inc    0.082855\n",
      " Local-gov           0.068532\n",
      " State-gov           0.042406\n",
      " Self-emp-inc        0.035609\n",
      " Federal-gov         0.031266\n",
      " Without-pay         0.000464\n",
      "Name: count, dtype: float64\n",
      "education\n",
      " HS-grad         0.326249\n",
      " Some-college    0.221379\n",
      " Bachelors       0.167236\n",
      " Masters         0.053944\n",
      " Assoc-voc       0.043334\n",
      " 11th            0.034747\n",
      " Assoc-acdm      0.033421\n",
      " 10th            0.027187\n",
      " 7th-8th         0.018468\n",
      " Prof-school     0.017970\n",
      " 9th             0.015086\n",
      " 12th            0.012500\n",
      " Doctorate       0.012433\n",
      " 5th-6th         0.009549\n",
      " 1st-4th         0.005006\n",
      " Preschool       0.001492\n",
      "Name: count, dtype: float64\n",
      "maritalstatus\n",
      " Married-civ-spouse       0.466331\n",
      " Never-married            0.322436\n",
      " Divorced                 0.139717\n",
      " Separated                0.031133\n",
      " Widowed                  0.027420\n",
      " Married-spouse-absent    0.012267\n",
      " Married-AF-spouse        0.000696\n",
      "Name: count, dtype: float64\n",
      "occupation\n",
      " Prof-specialty       0.133882\n",
      " Craft-repair         0.133616\n",
      " Exec-managerial      0.132356\n",
      " Adm-clerical         0.123371\n",
      " Sales                0.118829\n",
      " Other-service        0.106495\n",
      " Machine-op-inspct    0.065150\n",
      " Transport-moving     0.052120\n",
      " Handlers-cleaners    0.044760\n",
      " Farming-fishing      0.032791\n",
      " Tech-support         0.030238\n",
      " Protective-serv      0.021352\n",
      " Priv-house-serv      0.004741\n",
      " Armed-Forces         0.000298\n",
      "Name: count, dtype: float64\n",
      "relationship\n",
      " Husband           0.413216\n",
      " Not-in-family     0.256159\n",
      " Own-child         0.148072\n",
      " Unmarried         0.106495\n",
      " Wife              0.046616\n",
      " Other-relative    0.029442\n",
      "Name: count, dtype: float64\n",
      "race\n",
      " White                 0.859786\n",
      " Black                 0.093399\n",
      " Asian-Pac-Islander    0.029674\n",
      " Amer-Indian-Eskimo    0.009482\n",
      " Other                 0.007659\n",
      "Name: count, dtype: float64\n",
      "sex\n",
      " Male      0.675707\n",
      " Female    0.324293\n",
      "Name: count, dtype: float64\n",
      "native\n",
      " United-States                 0.911906\n",
      " Mexico                        0.020225\n",
      " Philippines                   0.006233\n",
      " Germany                       0.004244\n",
      " Puerto-Rico                   0.003614\n",
      " Canada                        0.003548\n",
      " India                         0.003316\n",
      " El-Salvador                   0.003316\n",
      " Cuba                          0.003050\n",
      " England                       0.002851\n",
      " Jamaica                       0.002652\n",
      " South                         0.002354\n",
      " China                         0.002255\n",
      " Italy                         0.002255\n",
      " Dominican-Republic            0.002221\n",
      " Vietnam                       0.002122\n",
      " Guatemala                     0.002089\n",
      " Japan                         0.001956\n",
      " Poland                        0.001857\n",
      " Columbia                      0.001857\n",
      " Iran                          0.001393\n",
      " Taiwan                        0.001393\n",
      " Haiti                         0.001393\n",
      " Portugal                      0.001127\n",
      " Nicaragua                     0.001094\n",
      " Peru                          0.000995\n",
      " Greece                        0.000962\n",
      " France                        0.000895\n",
      " Ecuador                       0.000895\n",
      " Ireland                       0.000796\n",
      " Hong                          0.000630\n",
      " Cambodia                      0.000597\n",
      " Trinadad&Tobago               0.000597\n",
      " Laos                          0.000564\n",
      " Thailand                      0.000564\n",
      " Yugoslavia                    0.000530\n",
      " Outlying-US(Guam-USVI-etc)    0.000464\n",
      " Hungary                       0.000431\n",
      " Honduras                      0.000398\n",
      " Scotland                      0.000365\n",
      "Name: count, dtype: float64\n",
      "Salary\n",
      " <=50K    0.751069\n",
      " >50K     0.248931\n",
      "Name: count, dtype: float64\n"
     ]
    }
   ],
   "source": [
    "# view frequency distribution of categorical variables\n",
    "\n",
    "for var in categorical: \n",
    "    print(salarydata_train[var].value_counts() / len(salarydata_train))"
   ]
  },
  {
   "cell_type": "code",
   "execution_count": 25,
   "id": "8da3b141-032d-481a-b949-fd59447edcc0",
   "metadata": {},
   "outputs": [
    {
     "data": {
      "text/plain": [
       "array([' State-gov', ' Self-emp-not-inc', ' Private', ' Federal-gov',\n",
       "       ' Local-gov', ' Self-emp-inc', ' Without-pay'], dtype=object)"
      ]
     },
     "execution_count": 25,
     "metadata": {},
     "output_type": "execute_result"
    }
   ],
   "source": [
    "# check labels in workclass variable\n",
    "\n",
    "salarydata_train.workclass.unique()"
   ]
  },
  {
   "cell_type": "code",
   "execution_count": 26,
   "id": "d6a91528-86ed-4e2e-964f-9a39d7a31414",
   "metadata": {},
   "outputs": [
    {
     "data": {
      "text/plain": [
       "workclass\n",
       " Private             22285\n",
       " Self-emp-not-inc     2499\n",
       " Local-gov            2067\n",
       " State-gov            1279\n",
       " Self-emp-inc         1074\n",
       " Federal-gov           943\n",
       " Without-pay            14\n",
       "Name: count, dtype: int64"
      ]
     },
     "execution_count": 26,
     "metadata": {},
     "output_type": "execute_result"
    }
   ],
   "source": [
    "# check frequency distribution of values in workclass variable\n",
    "\n",
    "salarydata_train.workclass.value_counts()"
   ]
  },
  {
   "cell_type": "raw",
   "id": "e61b4ebd-62fe-4022-a78a-50e8083fe146",
   "metadata": {},
   "source": [
    "Explore occupation variable"
   ]
  },
  {
   "cell_type": "code",
   "execution_count": 27,
   "id": "678ff41d-48d6-4553-9c01-964973939c36",
   "metadata": {},
   "outputs": [
    {
     "data": {
      "text/plain": [
       "array([' Adm-clerical', ' Exec-managerial', ' Handlers-cleaners',\n",
       "       ' Prof-specialty', ' Other-service', ' Sales', ' Transport-moving',\n",
       "       ' Farming-fishing', ' Machine-op-inspct', ' Tech-support',\n",
       "       ' Craft-repair', ' Protective-serv', ' Armed-Forces',\n",
       "       ' Priv-house-serv'], dtype=object)"
      ]
     },
     "execution_count": 27,
     "metadata": {},
     "output_type": "execute_result"
    }
   ],
   "source": [
    "# check labels in occupation variable\n",
    "\n",
    "salarydata_train.occupation.unique()"
   ]
  },
  {
   "cell_type": "code",
   "execution_count": 28,
   "id": "7a804528-6cf0-49cf-85e0-182aa5b90480",
   "metadata": {},
   "outputs": [
    {
     "data": {
      "text/plain": [
       "occupation\n",
       " Prof-specialty       4038\n",
       " Craft-repair         4030\n",
       " Exec-managerial      3992\n",
       " Adm-clerical         3721\n",
       " Sales                3584\n",
       " Other-service        3212\n",
       " Machine-op-inspct    1965\n",
       " Transport-moving     1572\n",
       " Handlers-cleaners    1350\n",
       " Farming-fishing       989\n",
       " Tech-support          912\n",
       " Protective-serv       644\n",
       " Priv-house-serv       143\n",
       " Armed-Forces            9\n",
       "Name: count, dtype: int64"
      ]
     },
     "execution_count": 28,
     "metadata": {},
     "output_type": "execute_result"
    }
   ],
   "source": [
    "# check frequency distribution of values in occupation variable\n",
    "\n",
    "salarydata_train.occupation.value_counts()"
   ]
  },
  {
   "cell_type": "raw",
   "id": "9903819c-9c65-4bb9-937c-95cdf4683444",
   "metadata": {},
   "source": [
    "Explore native_country variable"
   ]
  },
  {
   "cell_type": "code",
   "execution_count": 29,
   "id": "3dcf4855-429f-4afa-b843-d8f21a03116f",
   "metadata": {},
   "outputs": [
    {
     "data": {
      "text/plain": [
       "array([' United-States', ' Cuba', ' Jamaica', ' India', ' Mexico',\n",
       "       ' Puerto-Rico', ' Honduras', ' England', ' Canada', ' Germany',\n",
       "       ' Iran', ' Philippines', ' Poland', ' Columbia', ' Cambodia',\n",
       "       ' Thailand', ' Ecuador', ' Laos', ' Taiwan', ' Haiti', ' Portugal',\n",
       "       ' Dominican-Republic', ' El-Salvador', ' France', ' Guatemala',\n",
       "       ' Italy', ' China', ' South', ' Japan', ' Yugoslavia', ' Peru',\n",
       "       ' Outlying-US(Guam-USVI-etc)', ' Scotland', ' Trinadad&Tobago',\n",
       "       ' Greece', ' Nicaragua', ' Vietnam', ' Hong', ' Ireland',\n",
       "       ' Hungary'], dtype=object)"
      ]
     },
     "execution_count": 29,
     "metadata": {},
     "output_type": "execute_result"
    }
   ],
   "source": [
    "# check labels in native_country variable\n",
    "\n",
    "salarydata_train.native.unique()"
   ]
  },
  {
   "cell_type": "code",
   "execution_count": 30,
   "id": "456f3696-093d-467b-8f55-ea130eec4fe3",
   "metadata": {},
   "outputs": [
    {
     "data": {
      "text/plain": [
       "native\n",
       " United-States                 27504\n",
       " Mexico                          610\n",
       " Philippines                     188\n",
       " Germany                         128\n",
       " Puerto-Rico                     109\n",
       " Canada                          107\n",
       " India                           100\n",
       " El-Salvador                     100\n",
       " Cuba                             92\n",
       " England                          86\n",
       " Jamaica                          80\n",
       " South                            71\n",
       " China                            68\n",
       " Italy                            68\n",
       " Dominican-Republic               67\n",
       " Vietnam                          64\n",
       " Guatemala                        63\n",
       " Japan                            59\n",
       " Poland                           56\n",
       " Columbia                         56\n",
       " Iran                             42\n",
       " Taiwan                           42\n",
       " Haiti                            42\n",
       " Portugal                         34\n",
       " Nicaragua                        33\n",
       " Peru                             30\n",
       " Greece                           29\n",
       " France                           27\n",
       " Ecuador                          27\n",
       " Ireland                          24\n",
       " Hong                             19\n",
       " Cambodia                         18\n",
       " Trinadad&Tobago                  18\n",
       " Laos                             17\n",
       " Thailand                         17\n",
       " Yugoslavia                       16\n",
       " Outlying-US(Guam-USVI-etc)       14\n",
       " Hungary                          13\n",
       " Honduras                         12\n",
       " Scotland                         11\n",
       "Name: count, dtype: int64"
      ]
     },
     "execution_count": 30,
     "metadata": {},
     "output_type": "execute_result"
    }
   ],
   "source": [
    "# check frequency distribution of values in native_country variable\n",
    "\n",
    "salarydata_train.native.value_counts()"
   ]
  },
  {
   "cell_type": "raw",
   "id": "f26ab20d-28ea-42c8-9579-7503487a5991",
   "metadata": {},
   "source": [
    "Number of labels: cardinality"
   ]
  },
  {
   "cell_type": "code",
   "execution_count": 31,
   "id": "9f5cd033-c1b5-447b-b446-9813302368cc",
   "metadata": {},
   "outputs": [
    {
     "name": "stdout",
     "output_type": "stream",
     "text": [
      "workclass  contains  7  labels\n",
      "education  contains  16  labels\n",
      "maritalstatus  contains  7  labels\n",
      "occupation  contains  14  labels\n",
      "relationship  contains  6  labels\n",
      "race  contains  5  labels\n",
      "sex  contains  2  labels\n",
      "native  contains  40  labels\n",
      "Salary  contains  2  labels\n"
     ]
    }
   ],
   "source": [
    "# check for cardinality in categorical variables\n",
    "\n",
    "for var in categorical:\n",
    "    \n",
    "    print(var, ' contains ', len(salarydata_train[var].unique()), ' labels')"
   ]
  },
  {
   "cell_type": "raw",
   "id": "9f64d828-8828-49b8-b51d-20aa873eb312",
   "metadata": {},
   "source": [
    "Explore Numerical Variables"
   ]
  },
  {
   "cell_type": "code",
   "execution_count": 32,
   "id": "cd708494-5577-47a2-a1d4-00bfbd5dca0c",
   "metadata": {},
   "outputs": [
    {
     "name": "stdout",
     "output_type": "stream",
     "text": [
      "There are 5 numerical variables\n",
      "\n",
      "The numerical variables are : ['age', 'educationno', 'capitalgain', 'capitalloss', 'hoursperweek']\n"
     ]
    }
   ],
   "source": [
    "# find numerical variables\n",
    "\n",
    "numerical = [var for var in salarydata_train.columns if salarydata_train[var].dtype!='O']\n",
    "\n",
    "print('There are {} numerical variables\\n'.format(len(numerical)))\n",
    "\n",
    "print('The numerical variables are :', numerical)"
   ]
  },
  {
   "cell_type": "code",
   "execution_count": 33,
   "id": "3168b918-2e1c-40d4-b03e-c1bacb6da5a7",
   "metadata": {},
   "outputs": [
    {
     "data": {
      "text/html": [
       "<div>\n",
       "<style scoped>\n",
       "    .dataframe tbody tr th:only-of-type {\n",
       "        vertical-align: middle;\n",
       "    }\n",
       "\n",
       "    .dataframe tbody tr th {\n",
       "        vertical-align: top;\n",
       "    }\n",
       "\n",
       "    .dataframe thead th {\n",
       "        text-align: right;\n",
       "    }\n",
       "</style>\n",
       "<table border=\"1\" class=\"dataframe\">\n",
       "  <thead>\n",
       "    <tr style=\"text-align: right;\">\n",
       "      <th></th>\n",
       "      <th>age</th>\n",
       "      <th>educationno</th>\n",
       "      <th>capitalgain</th>\n",
       "      <th>capitalloss</th>\n",
       "      <th>hoursperweek</th>\n",
       "    </tr>\n",
       "  </thead>\n",
       "  <tbody>\n",
       "    <tr>\n",
       "      <th>0</th>\n",
       "      <td>39</td>\n",
       "      <td>13</td>\n",
       "      <td>2174</td>\n",
       "      <td>0</td>\n",
       "      <td>40</td>\n",
       "    </tr>\n",
       "    <tr>\n",
       "      <th>1</th>\n",
       "      <td>50</td>\n",
       "      <td>13</td>\n",
       "      <td>0</td>\n",
       "      <td>0</td>\n",
       "      <td>13</td>\n",
       "    </tr>\n",
       "    <tr>\n",
       "      <th>2</th>\n",
       "      <td>38</td>\n",
       "      <td>9</td>\n",
       "      <td>0</td>\n",
       "      <td>0</td>\n",
       "      <td>40</td>\n",
       "    </tr>\n",
       "    <tr>\n",
       "      <th>3</th>\n",
       "      <td>53</td>\n",
       "      <td>7</td>\n",
       "      <td>0</td>\n",
       "      <td>0</td>\n",
       "      <td>40</td>\n",
       "    </tr>\n",
       "    <tr>\n",
       "      <th>4</th>\n",
       "      <td>28</td>\n",
       "      <td>13</td>\n",
       "      <td>0</td>\n",
       "      <td>0</td>\n",
       "      <td>40</td>\n",
       "    </tr>\n",
       "  </tbody>\n",
       "</table>\n",
       "</div>"
      ],
      "text/plain": [
       "   age  educationno  capitalgain  capitalloss  hoursperweek\n",
       "0   39           13         2174            0            40\n",
       "1   50           13            0            0            13\n",
       "2   38            9            0            0            40\n",
       "3   53            7            0            0            40\n",
       "4   28           13            0            0            40"
      ]
     },
     "execution_count": 33,
     "metadata": {},
     "output_type": "execute_result"
    }
   ],
   "source": [
    "# view the numerical variables\n",
    "\n",
    "salarydata_train[numerical].head()"
   ]
  },
  {
   "cell_type": "raw",
   "id": "a496d4c0-8926-469a-838a-133c73df6bb5",
   "metadata": {},
   "source": [
    "Summary of numerical variables\n",
    "\n",
    "There are 5 numerical variables.\n",
    "\n",
    "These are given by age, educationno, capitalgain, capitalloss and hoursperweek. All of the numerical variables are of discrete data type."
   ]
  },
  {
   "cell_type": "raw",
   "id": "959838eb-0e99-4a0f-a0cd-f807045876f6",
   "metadata": {},
   "source": [
    "Explore problems within numerical variables"
   ]
  },
  {
   "cell_type": "code",
   "execution_count": 34,
   "id": "8a6acbe3-9d6b-4e84-b2a0-899a27dd508e",
   "metadata": {},
   "outputs": [
    {
     "data": {
      "text/plain": [
       "age             0\n",
       "educationno     0\n",
       "capitalgain     0\n",
       "capitalloss     0\n",
       "hoursperweek    0\n",
       "dtype: int64"
      ]
     },
     "execution_count": 34,
     "metadata": {},
     "output_type": "execute_result"
    }
   ],
   "source": [
    "# check missing values in numerical variables\n",
    "\n",
    "salarydata_train[numerical].isnull().sum()"
   ]
  },
  {
   "cell_type": "raw",
   "id": "e04e1086-fa20-471d-a499-13ed07ffabfe",
   "metadata": {},
   "source": [
    "Declare feature vector and target variable"
   ]
  },
  {
   "cell_type": "code",
   "execution_count": 35,
   "id": "c3d1b8d2-c01f-459b-a5eb-1a6de8152b65",
   "metadata": {},
   "outputs": [],
   "source": [
    "X = salarydata_train.drop(['Salary'], axis=1)\n",
    "\n",
    "y = salarydata_train['Salary']"
   ]
  },
  {
   "cell_type": "raw",
   "id": "917b2b4d-df95-4215-b49a-32785b242c27",
   "metadata": {},
   "source": [
    "Split data into separate training and test set"
   ]
  },
  {
   "cell_type": "code",
   "execution_count": 36,
   "id": "efbf4001-7c74-4f53-9635-303135401654",
   "metadata": {},
   "outputs": [],
   "source": [
    "# split X and y into training and testing sets\n",
    "\n",
    "from sklearn.model_selection import train_test_split\n",
    "\n",
    "X_train, X_test, y_train, y_test = train_test_split(X, y, test_size = 0.3, random_state = 0)"
   ]
  },
  {
   "cell_type": "code",
   "execution_count": 37,
   "id": "6d8a0b19-25af-40df-9df6-ae7e380df2c4",
   "metadata": {},
   "outputs": [
    {
     "data": {
      "text/plain": [
       "((21112, 13), (9049, 13))"
      ]
     },
     "execution_count": 37,
     "metadata": {},
     "output_type": "execute_result"
    }
   ],
   "source": [
    "# check the shape of X_train and X_test\n",
    "\n",
    "X_train.shape, X_test.shape"
   ]
  },
  {
   "cell_type": "raw",
   "id": "a9690c3f-cae5-4139-b240-a58239bfb6c2",
   "metadata": {},
   "source": [
    "Feature Engineering"
   ]
  },
  {
   "cell_type": "code",
   "execution_count": 38,
   "id": "4dd58896-6388-4cfc-ab3a-78a640aeab78",
   "metadata": {},
   "outputs": [
    {
     "data": {
      "text/plain": [
       "age               int64\n",
       "workclass        object\n",
       "education        object\n",
       "educationno       int64\n",
       "maritalstatus    object\n",
       "occupation       object\n",
       "relationship     object\n",
       "race             object\n",
       "sex              object\n",
       "capitalgain       int64\n",
       "capitalloss       int64\n",
       "hoursperweek      int64\n",
       "native           object\n",
       "dtype: object"
      ]
     },
     "execution_count": 38,
     "metadata": {},
     "output_type": "execute_result"
    }
   ],
   "source": [
    "X_train.dtypes"
   ]
  },
  {
   "cell_type": "code",
   "execution_count": 39,
   "id": "216245fc-43c5-4e3c-8ae9-96667989f40e",
   "metadata": {},
   "outputs": [
    {
     "data": {
      "text/plain": [
       "age               int64\n",
       "workclass        object\n",
       "education        object\n",
       "educationno       int64\n",
       "maritalstatus    object\n",
       "occupation       object\n",
       "relationship     object\n",
       "race             object\n",
       "sex              object\n",
       "capitalgain       int64\n",
       "capitalloss       int64\n",
       "hoursperweek      int64\n",
       "native           object\n",
       "dtype: object"
      ]
     },
     "execution_count": 39,
     "metadata": {},
     "output_type": "execute_result"
    }
   ],
   "source": [
    "X_test.dtypes"
   ]
  },
  {
   "cell_type": "code",
   "execution_count": 40,
   "id": "0956c0b9-dbd9-4d2d-a6ee-5e7a0a1d399e",
   "metadata": {},
   "outputs": [
    {
     "data": {
      "text/plain": [
       "['workclass',\n",
       " 'education',\n",
       " 'maritalstatus',\n",
       " 'occupation',\n",
       " 'relationship',\n",
       " 'race',\n",
       " 'sex',\n",
       " 'native']"
      ]
     },
     "execution_count": 40,
     "metadata": {},
     "output_type": "execute_result"
    }
   ],
   "source": [
    "# display categorical variables\n",
    "\n",
    "categorical = [col for col in X_train.columns if X_train[col].dtypes == 'O']\n",
    "\n",
    "categorical"
   ]
  },
  {
   "cell_type": "code",
   "execution_count": 41,
   "id": "2b3e1415-4756-4b53-b40a-3df3ad41d0ea",
   "metadata": {},
   "outputs": [
    {
     "data": {
      "text/plain": [
       "['age', 'educationno', 'capitalgain', 'capitalloss', 'hoursperweek']"
      ]
     },
     "execution_count": 41,
     "metadata": {},
     "output_type": "execute_result"
    }
   ],
   "source": [
    "# display numerical variables\n",
    "\n",
    "numerical = [col for col in X_train.columns if X_train[col].dtypes != 'O']\n",
    "\n",
    "numerical"
   ]
  },
  {
   "cell_type": "code",
   "execution_count": 42,
   "id": "dd887884-a84a-4c57-805c-dd9cc8a7d0a7",
   "metadata": {},
   "outputs": [
    {
     "data": {
      "text/plain": [
       "workclass        0.0\n",
       "education        0.0\n",
       "maritalstatus    0.0\n",
       "occupation       0.0\n",
       "relationship     0.0\n",
       "race             0.0\n",
       "sex              0.0\n",
       "native           0.0\n",
       "dtype: float64"
      ]
     },
     "execution_count": 42,
     "metadata": {},
     "output_type": "execute_result"
    }
   ],
   "source": [
    "# print percentage of missing values in the categorical variables in training set\n",
    "\n",
    "X_train[categorical].isnull().mean()"
   ]
  },
  {
   "cell_type": "code",
   "execution_count": 43,
   "id": "647f21be-27f4-4eca-89a9-765d473ca08e",
   "metadata": {},
   "outputs": [],
   "source": [
    "# print categorical variables with missing data\n",
    "\n",
    "for col in categorical:\n",
    "    if X_train[col].isnull().mean()>0:\n",
    "        print(col, (X_train[col].isnull().mean()))"
   ]
  },
  {
   "cell_type": "code",
   "execution_count": 44,
   "id": "e7360a6e-fc34-4570-ae71-ea34d1026b3a",
   "metadata": {},
   "outputs": [],
   "source": [
    "# impute missing categorical variables with most frequent value\n",
    "\n",
    "for df2 in [X_train, X_test]:\n",
    "    df2['workclass'].fillna(X_train['workclass'].mode()[0], inplace=True)\n",
    "    df2['occupation'].fillna(X_train['occupation'].mode()[0], inplace=True)\n",
    "    df2['native'].fillna(X_train['native'].mode()[0], inplace=True)  "
   ]
  },
  {
   "cell_type": "code",
   "execution_count": 45,
   "id": "a3f32239-7aa5-4101-b970-810cc13562d6",
   "metadata": {},
   "outputs": [
    {
     "data": {
      "text/plain": [
       "workclass        0\n",
       "education        0\n",
       "maritalstatus    0\n",
       "occupation       0\n",
       "relationship     0\n",
       "race             0\n",
       "sex              0\n",
       "native           0\n",
       "dtype: int64"
      ]
     },
     "execution_count": 45,
     "metadata": {},
     "output_type": "execute_result"
    }
   ],
   "source": [
    "# check missing values in categorical variables in X_train\n",
    "\n",
    "X_train[categorical].isnull().sum()"
   ]
  },
  {
   "cell_type": "code",
   "execution_count": 46,
   "id": "5ad6bf29-d714-42d1-88e8-de31e93d8a58",
   "metadata": {},
   "outputs": [
    {
     "data": {
      "text/plain": [
       "workclass        0\n",
       "education        0\n",
       "maritalstatus    0\n",
       "occupation       0\n",
       "relationship     0\n",
       "race             0\n",
       "sex              0\n",
       "native           0\n",
       "dtype: int64"
      ]
     },
     "execution_count": 46,
     "metadata": {},
     "output_type": "execute_result"
    }
   ],
   "source": [
    "# check missing values in categorical variables in X_test\n",
    "\n",
    "X_test[categorical].isnull().sum()"
   ]
  },
  {
   "cell_type": "code",
   "execution_count": 47,
   "id": "847ffa7c-f31f-44da-afff-2bc2d96be6b3",
   "metadata": {},
   "outputs": [
    {
     "data": {
      "text/plain": [
       "age              0\n",
       "workclass        0\n",
       "education        0\n",
       "educationno      0\n",
       "maritalstatus    0\n",
       "occupation       0\n",
       "relationship     0\n",
       "race             0\n",
       "sex              0\n",
       "capitalgain      0\n",
       "capitalloss      0\n",
       "hoursperweek     0\n",
       "native           0\n",
       "dtype: int64"
      ]
     },
     "execution_count": 47,
     "metadata": {},
     "output_type": "execute_result"
    }
   ],
   "source": [
    "# check missing values in X_train\n",
    "\n",
    "X_train.isnull().sum()"
   ]
  },
  {
   "cell_type": "code",
   "execution_count": 48,
   "id": "2511894f-9602-41db-99a2-810348ef13c2",
   "metadata": {},
   "outputs": [
    {
     "data": {
      "text/plain": [
       "age              0\n",
       "workclass        0\n",
       "education        0\n",
       "educationno      0\n",
       "maritalstatus    0\n",
       "occupation       0\n",
       "relationship     0\n",
       "race             0\n",
       "sex              0\n",
       "capitalgain      0\n",
       "capitalloss      0\n",
       "hoursperweek     0\n",
       "native           0\n",
       "dtype: int64"
      ]
     },
     "execution_count": 48,
     "metadata": {},
     "output_type": "execute_result"
    }
   ],
   "source": [
    "# check missing values in X_test\n",
    "\n",
    "X_test.isnull().sum()"
   ]
  },
  {
   "cell_type": "raw",
   "id": "5c85f7f7-9edd-4549-aca4-e7d2760a23f6",
   "metadata": {},
   "source": [
    "Encode categorical variables"
   ]
  },
  {
   "cell_type": "code",
   "execution_count": 49,
   "id": "23045df7-8c2a-4049-ac9d-6ddd0816354e",
   "metadata": {},
   "outputs": [
    {
     "data": {
      "text/plain": [
       "['workclass',\n",
       " 'education',\n",
       " 'maritalstatus',\n",
       " 'occupation',\n",
       " 'relationship',\n",
       " 'race',\n",
       " 'sex',\n",
       " 'native']"
      ]
     },
     "execution_count": 49,
     "metadata": {},
     "output_type": "execute_result"
    }
   ],
   "source": [
    "# print categorical variables\n",
    "\n",
    "categorical"
   ]
  },
  {
   "cell_type": "code",
   "execution_count": 50,
   "id": "4e3209fd-7afa-4b36-b3c9-4a109bb9990f",
   "metadata": {},
   "outputs": [
    {
     "data": {
      "text/html": [
       "<div>\n",
       "<style scoped>\n",
       "    .dataframe tbody tr th:only-of-type {\n",
       "        vertical-align: middle;\n",
       "    }\n",
       "\n",
       "    .dataframe tbody tr th {\n",
       "        vertical-align: top;\n",
       "    }\n",
       "\n",
       "    .dataframe thead th {\n",
       "        text-align: right;\n",
       "    }\n",
       "</style>\n",
       "<table border=\"1\" class=\"dataframe\">\n",
       "  <thead>\n",
       "    <tr style=\"text-align: right;\">\n",
       "      <th></th>\n",
       "      <th>workclass</th>\n",
       "      <th>education</th>\n",
       "      <th>maritalstatus</th>\n",
       "      <th>occupation</th>\n",
       "      <th>relationship</th>\n",
       "      <th>race</th>\n",
       "      <th>sex</th>\n",
       "      <th>native</th>\n",
       "    </tr>\n",
       "  </thead>\n",
       "  <tbody>\n",
       "    <tr>\n",
       "      <th>8166</th>\n",
       "      <td>Local-gov</td>\n",
       "      <td>Some-college</td>\n",
       "      <td>Married-civ-spouse</td>\n",
       "      <td>Protective-serv</td>\n",
       "      <td>Husband</td>\n",
       "      <td>White</td>\n",
       "      <td>Male</td>\n",
       "      <td>United-States</td>\n",
       "    </tr>\n",
       "    <tr>\n",
       "      <th>7138</th>\n",
       "      <td>Private</td>\n",
       "      <td>Some-college</td>\n",
       "      <td>Never-married</td>\n",
       "      <td>Other-service</td>\n",
       "      <td>Own-child</td>\n",
       "      <td>White</td>\n",
       "      <td>Male</td>\n",
       "      <td>United-States</td>\n",
       "    </tr>\n",
       "    <tr>\n",
       "      <th>437</th>\n",
       "      <td>Private</td>\n",
       "      <td>HS-grad</td>\n",
       "      <td>Never-married</td>\n",
       "      <td>Transport-moving</td>\n",
       "      <td>Not-in-family</td>\n",
       "      <td>White</td>\n",
       "      <td>Male</td>\n",
       "      <td>United-States</td>\n",
       "    </tr>\n",
       "    <tr>\n",
       "      <th>5436</th>\n",
       "      <td>Private</td>\n",
       "      <td>HS-grad</td>\n",
       "      <td>Married-civ-spouse</td>\n",
       "      <td>Craft-repair</td>\n",
       "      <td>Husband</td>\n",
       "      <td>White</td>\n",
       "      <td>Male</td>\n",
       "      <td>United-States</td>\n",
       "    </tr>\n",
       "    <tr>\n",
       "      <th>6541</th>\n",
       "      <td>Self-emp-not-inc</td>\n",
       "      <td>HS-grad</td>\n",
       "      <td>Married-civ-spouse</td>\n",
       "      <td>Tech-support</td>\n",
       "      <td>Husband</td>\n",
       "      <td>White</td>\n",
       "      <td>Male</td>\n",
       "      <td>United-States</td>\n",
       "    </tr>\n",
       "  </tbody>\n",
       "</table>\n",
       "</div>"
      ],
      "text/plain": [
       "              workclass      education        maritalstatus  \\\n",
       "8166          Local-gov   Some-college   Married-civ-spouse   \n",
       "7138            Private   Some-college        Never-married   \n",
       "437             Private        HS-grad        Never-married   \n",
       "5436            Private        HS-grad   Married-civ-spouse   \n",
       "6541   Self-emp-not-inc        HS-grad   Married-civ-spouse   \n",
       "\n",
       "             occupation    relationship    race    sex          native  \n",
       "8166    Protective-serv         Husband   White   Male   United-States  \n",
       "7138      Other-service       Own-child   White   Male   United-States  \n",
       "437    Transport-moving   Not-in-family   White   Male   United-States  \n",
       "5436       Craft-repair         Husband   White   Male   United-States  \n",
       "6541       Tech-support         Husband   White   Male   United-States  "
      ]
     },
     "execution_count": 50,
     "metadata": {},
     "output_type": "execute_result"
    }
   ],
   "source": [
    "X_train[categorical].head()"
   ]
  },
  {
   "cell_type": "code",
   "execution_count": 51,
   "id": "2a523815-1a04-4f6f-b887-db05a760ac4a",
   "metadata": {},
   "outputs": [
    {
     "name": "stdout",
     "output_type": "stream",
     "text": [
      "Collecting category_encoders\n",
      "  Downloading category_encoders-2.6.3-py2.py3-none-any.whl.metadata (8.0 kB)\n",
      "Requirement already satisfied: numpy>=1.14.0 in c:\\users\\hp\\documents\\new folder\\lib\\site-packages (from category_encoders) (1.26.4)\n",
      "Requirement already satisfied: scikit-learn>=0.20.0 in c:\\users\\hp\\documents\\new folder\\lib\\site-packages (from category_encoders) (1.4.1.post1)\n",
      "Requirement already satisfied: scipy>=1.0.0 in c:\\users\\hp\\documents\\new folder\\lib\\site-packages (from category_encoders) (1.12.0)\n",
      "Requirement already satisfied: statsmodels>=0.9.0 in c:\\users\\hp\\documents\\new folder\\lib\\site-packages (from category_encoders) (0.14.0)\n",
      "Requirement already satisfied: pandas>=1.0.5 in c:\\users\\hp\\documents\\new folder\\lib\\site-packages (from category_encoders) (2.1.4)\n",
      "Requirement already satisfied: patsy>=0.5.1 in c:\\users\\hp\\documents\\new folder\\lib\\site-packages (from category_encoders) (0.5.3)\n",
      "Requirement already satisfied: python-dateutil>=2.8.2 in c:\\users\\hp\\documents\\new folder\\lib\\site-packages (from pandas>=1.0.5->category_encoders) (2.8.2)\n",
      "Requirement already satisfied: pytz>=2020.1 in c:\\users\\hp\\documents\\new folder\\lib\\site-packages (from pandas>=1.0.5->category_encoders) (2023.3.post1)\n",
      "Requirement already satisfied: tzdata>=2022.1 in c:\\users\\hp\\documents\\new folder\\lib\\site-packages (from pandas>=1.0.5->category_encoders) (2023.3)\n",
      "Requirement already satisfied: six in c:\\users\\hp\\documents\\new folder\\lib\\site-packages (from patsy>=0.5.1->category_encoders) (1.16.0)\n",
      "Requirement already satisfied: joblib>=1.2.0 in c:\\users\\hp\\documents\\new folder\\lib\\site-packages (from scikit-learn>=0.20.0->category_encoders) (1.3.2)\n",
      "Requirement already satisfied: threadpoolctl>=2.0.0 in c:\\users\\hp\\documents\\new folder\\lib\\site-packages (from scikit-learn>=0.20.0->category_encoders) (3.4.0)\n",
      "Requirement already satisfied: packaging>=21.3 in c:\\users\\hp\\documents\\new folder\\lib\\site-packages (from statsmodels>=0.9.0->category_encoders) (23.1)\n",
      "Downloading category_encoders-2.6.3-py2.py3-none-any.whl (81 kB)\n",
      "   ---------------------------------------- 0.0/81.9 kB ? eta -:--:--\n",
      "   ---------------------------------------- 0.0/81.9 kB ? eta -:--:--\n",
      "   ---------------------------------------- 0.0/81.9 kB ? eta -:--:--\n",
      "   ---------------------------------------- 81.9/81.9 kB 2.2 MB/s eta 0:00:00\n",
      "Installing collected packages: category_encoders\n",
      "Successfully installed category_encoders-2.6.3\n"
     ]
    }
   ],
   "source": [
    "!pip install category_encoders"
   ]
  },
  {
   "cell_type": "code",
   "execution_count": 52,
   "id": "90b9a689-9bba-4514-993c-9ce057661399",
   "metadata": {},
   "outputs": [],
   "source": [
    "# import category encoders\n",
    "\n",
    "import category_encoders as ce"
   ]
  },
  {
   "cell_type": "code",
   "execution_count": 53,
   "id": "fdb03755-5c0b-452c-ae95-ca5131094662",
   "metadata": {},
   "outputs": [],
   "source": [
    "# encode remaining variables with one-hot encoding\n",
    "\n",
    "encoder = ce.OneHotEncoder(cols=['workclass', 'education', 'maritalstatus', 'occupation', 'relationship', \n",
    "                                 'race', 'sex', 'native'])\n",
    "\n",
    "X_train = encoder.fit_transform(X_train)\n",
    "\n",
    "X_test = encoder.transform(X_test)"
   ]
  },
  {
   "cell_type": "code",
   "execution_count": 54,
   "id": "0a4773f4-a922-441d-9197-9484ec5e32a6",
   "metadata": {},
   "outputs": [
    {
     "data": {
      "text/html": [
       "<div>\n",
       "<style scoped>\n",
       "    .dataframe tbody tr th:only-of-type {\n",
       "        vertical-align: middle;\n",
       "    }\n",
       "\n",
       "    .dataframe tbody tr th {\n",
       "        vertical-align: top;\n",
       "    }\n",
       "\n",
       "    .dataframe thead th {\n",
       "        text-align: right;\n",
       "    }\n",
       "</style>\n",
       "<table border=\"1\" class=\"dataframe\">\n",
       "  <thead>\n",
       "    <tr style=\"text-align: right;\">\n",
       "      <th></th>\n",
       "      <th>age</th>\n",
       "      <th>workclass_1</th>\n",
       "      <th>workclass_2</th>\n",
       "      <th>workclass_3</th>\n",
       "      <th>workclass_4</th>\n",
       "      <th>workclass_5</th>\n",
       "      <th>workclass_6</th>\n",
       "      <th>workclass_7</th>\n",
       "      <th>education_1</th>\n",
       "      <th>education_2</th>\n",
       "      <th>...</th>\n",
       "      <th>native_31</th>\n",
       "      <th>native_32</th>\n",
       "      <th>native_33</th>\n",
       "      <th>native_34</th>\n",
       "      <th>native_35</th>\n",
       "      <th>native_36</th>\n",
       "      <th>native_37</th>\n",
       "      <th>native_38</th>\n",
       "      <th>native_39</th>\n",
       "      <th>native_40</th>\n",
       "    </tr>\n",
       "  </thead>\n",
       "  <tbody>\n",
       "    <tr>\n",
       "      <th>8166</th>\n",
       "      <td>54</td>\n",
       "      <td>1</td>\n",
       "      <td>0</td>\n",
       "      <td>0</td>\n",
       "      <td>0</td>\n",
       "      <td>0</td>\n",
       "      <td>0</td>\n",
       "      <td>0</td>\n",
       "      <td>1</td>\n",
       "      <td>0</td>\n",
       "      <td>...</td>\n",
       "      <td>0</td>\n",
       "      <td>0</td>\n",
       "      <td>0</td>\n",
       "      <td>0</td>\n",
       "      <td>0</td>\n",
       "      <td>0</td>\n",
       "      <td>0</td>\n",
       "      <td>0</td>\n",
       "      <td>0</td>\n",
       "      <td>0</td>\n",
       "    </tr>\n",
       "    <tr>\n",
       "      <th>7138</th>\n",
       "      <td>21</td>\n",
       "      <td>0</td>\n",
       "      <td>1</td>\n",
       "      <td>0</td>\n",
       "      <td>0</td>\n",
       "      <td>0</td>\n",
       "      <td>0</td>\n",
       "      <td>0</td>\n",
       "      <td>1</td>\n",
       "      <td>0</td>\n",
       "      <td>...</td>\n",
       "      <td>0</td>\n",
       "      <td>0</td>\n",
       "      <td>0</td>\n",
       "      <td>0</td>\n",
       "      <td>0</td>\n",
       "      <td>0</td>\n",
       "      <td>0</td>\n",
       "      <td>0</td>\n",
       "      <td>0</td>\n",
       "      <td>0</td>\n",
       "    </tr>\n",
       "    <tr>\n",
       "      <th>437</th>\n",
       "      <td>30</td>\n",
       "      <td>0</td>\n",
       "      <td>1</td>\n",
       "      <td>0</td>\n",
       "      <td>0</td>\n",
       "      <td>0</td>\n",
       "      <td>0</td>\n",
       "      <td>0</td>\n",
       "      <td>0</td>\n",
       "      <td>1</td>\n",
       "      <td>...</td>\n",
       "      <td>0</td>\n",
       "      <td>0</td>\n",
       "      <td>0</td>\n",
       "      <td>0</td>\n",
       "      <td>0</td>\n",
       "      <td>0</td>\n",
       "      <td>0</td>\n",
       "      <td>0</td>\n",
       "      <td>0</td>\n",
       "      <td>0</td>\n",
       "    </tr>\n",
       "    <tr>\n",
       "      <th>5436</th>\n",
       "      <td>42</td>\n",
       "      <td>0</td>\n",
       "      <td>1</td>\n",
       "      <td>0</td>\n",
       "      <td>0</td>\n",
       "      <td>0</td>\n",
       "      <td>0</td>\n",
       "      <td>0</td>\n",
       "      <td>0</td>\n",
       "      <td>1</td>\n",
       "      <td>...</td>\n",
       "      <td>0</td>\n",
       "      <td>0</td>\n",
       "      <td>0</td>\n",
       "      <td>0</td>\n",
       "      <td>0</td>\n",
       "      <td>0</td>\n",
       "      <td>0</td>\n",
       "      <td>0</td>\n",
       "      <td>0</td>\n",
       "      <td>0</td>\n",
       "    </tr>\n",
       "    <tr>\n",
       "      <th>6541</th>\n",
       "      <td>37</td>\n",
       "      <td>0</td>\n",
       "      <td>0</td>\n",
       "      <td>1</td>\n",
       "      <td>0</td>\n",
       "      <td>0</td>\n",
       "      <td>0</td>\n",
       "      <td>0</td>\n",
       "      <td>0</td>\n",
       "      <td>1</td>\n",
       "      <td>...</td>\n",
       "      <td>0</td>\n",
       "      <td>0</td>\n",
       "      <td>0</td>\n",
       "      <td>0</td>\n",
       "      <td>0</td>\n",
       "      <td>0</td>\n",
       "      <td>0</td>\n",
       "      <td>0</td>\n",
       "      <td>0</td>\n",
       "      <td>0</td>\n",
       "    </tr>\n",
       "  </tbody>\n",
       "</table>\n",
       "<p>5 rows × 102 columns</p>\n",
       "</div>"
      ],
      "text/plain": [
       "      age  workclass_1  workclass_2  workclass_3  workclass_4  workclass_5  \\\n",
       "8166   54            1            0            0            0            0   \n",
       "7138   21            0            1            0            0            0   \n",
       "437    30            0            1            0            0            0   \n",
       "5436   42            0            1            0            0            0   \n",
       "6541   37            0            0            1            0            0   \n",
       "\n",
       "      workclass_6  workclass_7  education_1  education_2  ...  native_31  \\\n",
       "8166            0            0            1            0  ...          0   \n",
       "7138            0            0            1            0  ...          0   \n",
       "437             0            0            0            1  ...          0   \n",
       "5436            0            0            0            1  ...          0   \n",
       "6541            0            0            0            1  ...          0   \n",
       "\n",
       "      native_32  native_33  native_34  native_35  native_36  native_37  \\\n",
       "8166          0          0          0          0          0          0   \n",
       "7138          0          0          0          0          0          0   \n",
       "437           0          0          0          0          0          0   \n",
       "5436          0          0          0          0          0          0   \n",
       "6541          0          0          0          0          0          0   \n",
       "\n",
       "      native_38  native_39  native_40  \n",
       "8166          0          0          0  \n",
       "7138          0          0          0  \n",
       "437           0          0          0  \n",
       "5436          0          0          0  \n",
       "6541          0          0          0  \n",
       "\n",
       "[5 rows x 102 columns]"
      ]
     },
     "execution_count": 54,
     "metadata": {},
     "output_type": "execute_result"
    }
   ],
   "source": [
    "X_train.head()"
   ]
  },
  {
   "cell_type": "code",
   "execution_count": 55,
   "id": "831cc17b-3718-4f0b-9996-2d0f1f3b349b",
   "metadata": {},
   "outputs": [
    {
     "data": {
      "text/plain": [
       "(21112, 102)"
      ]
     },
     "execution_count": 55,
     "metadata": {},
     "output_type": "execute_result"
    }
   ],
   "source": [
    "X_train.shape"
   ]
  },
  {
   "cell_type": "raw",
   "id": "4f15c3f0-8985-4669-8e71-a6a45d7b4a31",
   "metadata": {},
   "source": [
    "We can see that from the initial 14 columns, we now have 102 columns."
   ]
  },
  {
   "cell_type": "code",
   "execution_count": 56,
   "id": "93f2c07c-7561-469e-95aa-9a709e1b6fa0",
   "metadata": {},
   "outputs": [
    {
     "data": {
      "text/html": [
       "<div>\n",
       "<style scoped>\n",
       "    .dataframe tbody tr th:only-of-type {\n",
       "        vertical-align: middle;\n",
       "    }\n",
       "\n",
       "    .dataframe tbody tr th {\n",
       "        vertical-align: top;\n",
       "    }\n",
       "\n",
       "    .dataframe thead th {\n",
       "        text-align: right;\n",
       "    }\n",
       "</style>\n",
       "<table border=\"1\" class=\"dataframe\">\n",
       "  <thead>\n",
       "    <tr style=\"text-align: right;\">\n",
       "      <th></th>\n",
       "      <th>age</th>\n",
       "      <th>workclass_1</th>\n",
       "      <th>workclass_2</th>\n",
       "      <th>workclass_3</th>\n",
       "      <th>workclass_4</th>\n",
       "      <th>workclass_5</th>\n",
       "      <th>workclass_6</th>\n",
       "      <th>workclass_7</th>\n",
       "      <th>education_1</th>\n",
       "      <th>education_2</th>\n",
       "      <th>...</th>\n",
       "      <th>native_31</th>\n",
       "      <th>native_32</th>\n",
       "      <th>native_33</th>\n",
       "      <th>native_34</th>\n",
       "      <th>native_35</th>\n",
       "      <th>native_36</th>\n",
       "      <th>native_37</th>\n",
       "      <th>native_38</th>\n",
       "      <th>native_39</th>\n",
       "      <th>native_40</th>\n",
       "    </tr>\n",
       "  </thead>\n",
       "  <tbody>\n",
       "    <tr>\n",
       "      <th>25338</th>\n",
       "      <td>21</td>\n",
       "      <td>0</td>\n",
       "      <td>1</td>\n",
       "      <td>0</td>\n",
       "      <td>0</td>\n",
       "      <td>0</td>\n",
       "      <td>0</td>\n",
       "      <td>0</td>\n",
       "      <td>0</td>\n",
       "      <td>1</td>\n",
       "      <td>...</td>\n",
       "      <td>0</td>\n",
       "      <td>0</td>\n",
       "      <td>0</td>\n",
       "      <td>0</td>\n",
       "      <td>0</td>\n",
       "      <td>0</td>\n",
       "      <td>0</td>\n",
       "      <td>0</td>\n",
       "      <td>0</td>\n",
       "      <td>0</td>\n",
       "    </tr>\n",
       "    <tr>\n",
       "      <th>18840</th>\n",
       "      <td>21</td>\n",
       "      <td>0</td>\n",
       "      <td>1</td>\n",
       "      <td>0</td>\n",
       "      <td>0</td>\n",
       "      <td>0</td>\n",
       "      <td>0</td>\n",
       "      <td>0</td>\n",
       "      <td>0</td>\n",
       "      <td>0</td>\n",
       "      <td>...</td>\n",
       "      <td>0</td>\n",
       "      <td>0</td>\n",
       "      <td>0</td>\n",
       "      <td>0</td>\n",
       "      <td>0</td>\n",
       "      <td>0</td>\n",
       "      <td>0</td>\n",
       "      <td>0</td>\n",
       "      <td>0</td>\n",
       "      <td>0</td>\n",
       "    </tr>\n",
       "    <tr>\n",
       "      <th>8391</th>\n",
       "      <td>56</td>\n",
       "      <td>0</td>\n",
       "      <td>1</td>\n",
       "      <td>0</td>\n",
       "      <td>0</td>\n",
       "      <td>0</td>\n",
       "      <td>0</td>\n",
       "      <td>0</td>\n",
       "      <td>0</td>\n",
       "      <td>0</td>\n",
       "      <td>...</td>\n",
       "      <td>0</td>\n",
       "      <td>0</td>\n",
       "      <td>0</td>\n",
       "      <td>0</td>\n",
       "      <td>0</td>\n",
       "      <td>0</td>\n",
       "      <td>0</td>\n",
       "      <td>0</td>\n",
       "      <td>0</td>\n",
       "      <td>0</td>\n",
       "    </tr>\n",
       "    <tr>\n",
       "      <th>18258</th>\n",
       "      <td>43</td>\n",
       "      <td>1</td>\n",
       "      <td>0</td>\n",
       "      <td>0</td>\n",
       "      <td>0</td>\n",
       "      <td>0</td>\n",
       "      <td>0</td>\n",
       "      <td>0</td>\n",
       "      <td>1</td>\n",
       "      <td>0</td>\n",
       "      <td>...</td>\n",
       "      <td>0</td>\n",
       "      <td>0</td>\n",
       "      <td>0</td>\n",
       "      <td>0</td>\n",
       "      <td>0</td>\n",
       "      <td>0</td>\n",
       "      <td>0</td>\n",
       "      <td>0</td>\n",
       "      <td>0</td>\n",
       "      <td>0</td>\n",
       "    </tr>\n",
       "    <tr>\n",
       "      <th>16669</th>\n",
       "      <td>53</td>\n",
       "      <td>0</td>\n",
       "      <td>0</td>\n",
       "      <td>0</td>\n",
       "      <td>1</td>\n",
       "      <td>0</td>\n",
       "      <td>0</td>\n",
       "      <td>0</td>\n",
       "      <td>0</td>\n",
       "      <td>0</td>\n",
       "      <td>...</td>\n",
       "      <td>0</td>\n",
       "      <td>1</td>\n",
       "      <td>0</td>\n",
       "      <td>0</td>\n",
       "      <td>0</td>\n",
       "      <td>0</td>\n",
       "      <td>0</td>\n",
       "      <td>0</td>\n",
       "      <td>0</td>\n",
       "      <td>0</td>\n",
       "    </tr>\n",
       "  </tbody>\n",
       "</table>\n",
       "<p>5 rows × 102 columns</p>\n",
       "</div>"
      ],
      "text/plain": [
       "       age  workclass_1  workclass_2  workclass_3  workclass_4  workclass_5  \\\n",
       "25338   21            0            1            0            0            0   \n",
       "18840   21            0            1            0            0            0   \n",
       "8391    56            0            1            0            0            0   \n",
       "18258   43            1            0            0            0            0   \n",
       "16669   53            0            0            0            1            0   \n",
       "\n",
       "       workclass_6  workclass_7  education_1  education_2  ...  native_31  \\\n",
       "25338            0            0            0            1  ...          0   \n",
       "18840            0            0            0            0  ...          0   \n",
       "8391             0            0            0            0  ...          0   \n",
       "18258            0            0            1            0  ...          0   \n",
       "16669            0            0            0            0  ...          0   \n",
       "\n",
       "       native_32  native_33  native_34  native_35  native_36  native_37  \\\n",
       "25338          0          0          0          0          0          0   \n",
       "18840          0          0          0          0          0          0   \n",
       "8391           0          0          0          0          0          0   \n",
       "18258          0          0          0          0          0          0   \n",
       "16669          1          0          0          0          0          0   \n",
       "\n",
       "       native_38  native_39  native_40  \n",
       "25338          0          0          0  \n",
       "18840          0          0          0  \n",
       "8391           0          0          0  \n",
       "18258          0          0          0  \n",
       "16669          0          0          0  \n",
       "\n",
       "[5 rows x 102 columns]"
      ]
     },
     "execution_count": 56,
     "metadata": {},
     "output_type": "execute_result"
    }
   ],
   "source": [
    "X_test.head()"
   ]
  },
  {
   "cell_type": "code",
   "execution_count": 57,
   "id": "e373b244-5814-4f42-9eee-a1668b8c60dc",
   "metadata": {},
   "outputs": [
    {
     "data": {
      "text/plain": [
       "(9049, 102)"
      ]
     },
     "execution_count": 57,
     "metadata": {},
     "output_type": "execute_result"
    }
   ],
   "source": [
    "X_test.shape"
   ]
  },
  {
   "cell_type": "raw",
   "id": "f3285d53-085d-4999-8cbd-d4086277ffae",
   "metadata": {},
   "source": [
    "We now have training and testing set ready for model building. Before that, we should map all the feature variables onto the same scale. It is called feature scaling."
   ]
  },
  {
   "cell_type": "raw",
   "id": "7d96dd9f-67b8-4ded-96b0-0a65d5413c4c",
   "metadata": {},
   "source": [
    "Feature Scaling"
   ]
  },
  {
   "cell_type": "code",
   "execution_count": 58,
   "id": "d2265d08-303b-4a2a-a882-5d35d1c840da",
   "metadata": {},
   "outputs": [],
   "source": [
    "cols = X_train.columns"
   ]
  },
  {
   "cell_type": "code",
   "execution_count": 59,
   "id": "081a0a74-f88d-4fa7-bf4a-bdd9a8f8f8d6",
   "metadata": {},
   "outputs": [],
   "source": [
    "from sklearn.preprocessing import RobustScaler\n",
    "\n",
    "scaler = RobustScaler()\n",
    "\n",
    "X_train = scaler.fit_transform(X_train)\n",
    "\n",
    "X_test = scaler.transform(X_test)"
   ]
  },
  {
   "cell_type": "code",
   "execution_count": 60,
   "id": "dfb5747c-9044-4376-a96c-7454cf59e4d7",
   "metadata": {},
   "outputs": [],
   "source": [
    "X_train = pd.DataFrame(X_train, columns=[cols])"
   ]
  },
  {
   "cell_type": "code",
   "execution_count": 62,
   "id": "e65bd868-d3fd-4402-82a5-890807e62060",
   "metadata": {},
   "outputs": [],
   "source": [
    "X_test = pd.DataFrame(X_test, columns=[cols])"
   ]
  },
  {
   "cell_type": "code",
   "execution_count": 63,
   "id": "7d985878-aa1a-454e-b116-ad676fec01b6",
   "metadata": {},
   "outputs": [
    {
     "data": {
      "text/html": [
       "<div>\n",
       "<style scoped>\n",
       "    .dataframe tbody tr th:only-of-type {\n",
       "        vertical-align: middle;\n",
       "    }\n",
       "\n",
       "    .dataframe tbody tr th {\n",
       "        vertical-align: top;\n",
       "    }\n",
       "\n",
       "    .dataframe thead tr th {\n",
       "        text-align: left;\n",
       "    }\n",
       "</style>\n",
       "<table border=\"1\" class=\"dataframe\">\n",
       "  <thead>\n",
       "    <tr>\n",
       "      <th></th>\n",
       "      <th>age</th>\n",
       "      <th>workclass_1</th>\n",
       "      <th>workclass_2</th>\n",
       "      <th>workclass_3</th>\n",
       "      <th>workclass_4</th>\n",
       "      <th>workclass_5</th>\n",
       "      <th>workclass_6</th>\n",
       "      <th>workclass_7</th>\n",
       "      <th>education_1</th>\n",
       "      <th>education_2</th>\n",
       "      <th>...</th>\n",
       "      <th>native_31</th>\n",
       "      <th>native_32</th>\n",
       "      <th>native_33</th>\n",
       "      <th>native_34</th>\n",
       "      <th>native_35</th>\n",
       "      <th>native_36</th>\n",
       "      <th>native_37</th>\n",
       "      <th>native_38</th>\n",
       "      <th>native_39</th>\n",
       "      <th>native_40</th>\n",
       "    </tr>\n",
       "  </thead>\n",
       "  <tbody>\n",
       "    <tr>\n",
       "      <th>0</th>\n",
       "      <td>0.894737</td>\n",
       "      <td>1.0</td>\n",
       "      <td>-1.0</td>\n",
       "      <td>0.0</td>\n",
       "      <td>0.0</td>\n",
       "      <td>0.0</td>\n",
       "      <td>0.0</td>\n",
       "      <td>0.0</td>\n",
       "      <td>1.0</td>\n",
       "      <td>0.0</td>\n",
       "      <td>...</td>\n",
       "      <td>0.0</td>\n",
       "      <td>0.0</td>\n",
       "      <td>0.0</td>\n",
       "      <td>0.0</td>\n",
       "      <td>0.0</td>\n",
       "      <td>0.0</td>\n",
       "      <td>0.0</td>\n",
       "      <td>0.0</td>\n",
       "      <td>0.0</td>\n",
       "      <td>0.0</td>\n",
       "    </tr>\n",
       "    <tr>\n",
       "      <th>1</th>\n",
       "      <td>-0.842105</td>\n",
       "      <td>0.0</td>\n",
       "      <td>0.0</td>\n",
       "      <td>0.0</td>\n",
       "      <td>0.0</td>\n",
       "      <td>0.0</td>\n",
       "      <td>0.0</td>\n",
       "      <td>0.0</td>\n",
       "      <td>1.0</td>\n",
       "      <td>0.0</td>\n",
       "      <td>...</td>\n",
       "      <td>0.0</td>\n",
       "      <td>0.0</td>\n",
       "      <td>0.0</td>\n",
       "      <td>0.0</td>\n",
       "      <td>0.0</td>\n",
       "      <td>0.0</td>\n",
       "      <td>0.0</td>\n",
       "      <td>0.0</td>\n",
       "      <td>0.0</td>\n",
       "      <td>0.0</td>\n",
       "    </tr>\n",
       "    <tr>\n",
       "      <th>2</th>\n",
       "      <td>-0.368421</td>\n",
       "      <td>0.0</td>\n",
       "      <td>0.0</td>\n",
       "      <td>0.0</td>\n",
       "      <td>0.0</td>\n",
       "      <td>0.0</td>\n",
       "      <td>0.0</td>\n",
       "      <td>0.0</td>\n",
       "      <td>0.0</td>\n",
       "      <td>1.0</td>\n",
       "      <td>...</td>\n",
       "      <td>0.0</td>\n",
       "      <td>0.0</td>\n",
       "      <td>0.0</td>\n",
       "      <td>0.0</td>\n",
       "      <td>0.0</td>\n",
       "      <td>0.0</td>\n",
       "      <td>0.0</td>\n",
       "      <td>0.0</td>\n",
       "      <td>0.0</td>\n",
       "      <td>0.0</td>\n",
       "    </tr>\n",
       "    <tr>\n",
       "      <th>3</th>\n",
       "      <td>0.263158</td>\n",
       "      <td>0.0</td>\n",
       "      <td>0.0</td>\n",
       "      <td>0.0</td>\n",
       "      <td>0.0</td>\n",
       "      <td>0.0</td>\n",
       "      <td>0.0</td>\n",
       "      <td>0.0</td>\n",
       "      <td>0.0</td>\n",
       "      <td>1.0</td>\n",
       "      <td>...</td>\n",
       "      <td>0.0</td>\n",
       "      <td>0.0</td>\n",
       "      <td>0.0</td>\n",
       "      <td>0.0</td>\n",
       "      <td>0.0</td>\n",
       "      <td>0.0</td>\n",
       "      <td>0.0</td>\n",
       "      <td>0.0</td>\n",
       "      <td>0.0</td>\n",
       "      <td>0.0</td>\n",
       "    </tr>\n",
       "    <tr>\n",
       "      <th>4</th>\n",
       "      <td>0.000000</td>\n",
       "      <td>0.0</td>\n",
       "      <td>-1.0</td>\n",
       "      <td>1.0</td>\n",
       "      <td>0.0</td>\n",
       "      <td>0.0</td>\n",
       "      <td>0.0</td>\n",
       "      <td>0.0</td>\n",
       "      <td>0.0</td>\n",
       "      <td>1.0</td>\n",
       "      <td>...</td>\n",
       "      <td>0.0</td>\n",
       "      <td>0.0</td>\n",
       "      <td>0.0</td>\n",
       "      <td>0.0</td>\n",
       "      <td>0.0</td>\n",
       "      <td>0.0</td>\n",
       "      <td>0.0</td>\n",
       "      <td>0.0</td>\n",
       "      <td>0.0</td>\n",
       "      <td>0.0</td>\n",
       "    </tr>\n",
       "  </tbody>\n",
       "</table>\n",
       "<p>5 rows × 102 columns</p>\n",
       "</div>"
      ],
      "text/plain": [
       "        age workclass_1 workclass_2 workclass_3 workclass_4 workclass_5  \\\n",
       "0  0.894737         1.0        -1.0         0.0         0.0         0.0   \n",
       "1 -0.842105         0.0         0.0         0.0         0.0         0.0   \n",
       "2 -0.368421         0.0         0.0         0.0         0.0         0.0   \n",
       "3  0.263158         0.0         0.0         0.0         0.0         0.0   \n",
       "4  0.000000         0.0        -1.0         1.0         0.0         0.0   \n",
       "\n",
       "  workclass_6 workclass_7 education_1 education_2  ... native_31 native_32  \\\n",
       "0         0.0         0.0         1.0         0.0  ...       0.0       0.0   \n",
       "1         0.0         0.0         1.0         0.0  ...       0.0       0.0   \n",
       "2         0.0         0.0         0.0         1.0  ...       0.0       0.0   \n",
       "3         0.0         0.0         0.0         1.0  ...       0.0       0.0   \n",
       "4         0.0         0.0         0.0         1.0  ...       0.0       0.0   \n",
       "\n",
       "  native_33 native_34 native_35 native_36 native_37 native_38 native_39  \\\n",
       "0       0.0       0.0       0.0       0.0       0.0       0.0       0.0   \n",
       "1       0.0       0.0       0.0       0.0       0.0       0.0       0.0   \n",
       "2       0.0       0.0       0.0       0.0       0.0       0.0       0.0   \n",
       "3       0.0       0.0       0.0       0.0       0.0       0.0       0.0   \n",
       "4       0.0       0.0       0.0       0.0       0.0       0.0       0.0   \n",
       "\n",
       "  native_40  \n",
       "0       0.0  \n",
       "1       0.0  \n",
       "2       0.0  \n",
       "3       0.0  \n",
       "4       0.0  \n",
       "\n",
       "[5 rows x 102 columns]"
      ]
     },
     "execution_count": 63,
     "metadata": {},
     "output_type": "execute_result"
    }
   ],
   "source": [
    "X_train.head()"
   ]
  },
  {
   "cell_type": "raw",
   "id": "791b327b-ca97-4bdd-977d-c721f45f7412",
   "metadata": {},
   "source": [
    "Model training"
   ]
  },
  {
   "cell_type": "code",
   "execution_count": 64,
   "id": "87dba5bf-24b4-412a-bf3c-fb356b212c02",
   "metadata": {},
   "outputs": [
    {
     "data": {
      "text/html": [
       "<style>#sk-container-id-1 {\n",
       "  /* Definition of color scheme common for light and dark mode */\n",
       "  --sklearn-color-text: black;\n",
       "  --sklearn-color-line: gray;\n",
       "  /* Definition of color scheme for unfitted estimators */\n",
       "  --sklearn-color-unfitted-level-0: #fff5e6;\n",
       "  --sklearn-color-unfitted-level-1: #f6e4d2;\n",
       "  --sklearn-color-unfitted-level-2: #ffe0b3;\n",
       "  --sklearn-color-unfitted-level-3: chocolate;\n",
       "  /* Definition of color scheme for fitted estimators */\n",
       "  --sklearn-color-fitted-level-0: #f0f8ff;\n",
       "  --sklearn-color-fitted-level-1: #d4ebff;\n",
       "  --sklearn-color-fitted-level-2: #b3dbfd;\n",
       "  --sklearn-color-fitted-level-3: cornflowerblue;\n",
       "\n",
       "  /* Specific color for light theme */\n",
       "  --sklearn-color-text-on-default-background: var(--sg-text-color, var(--theme-code-foreground, var(--jp-content-font-color1, black)));\n",
       "  --sklearn-color-background: var(--sg-background-color, var(--theme-background, var(--jp-layout-color0, white)));\n",
       "  --sklearn-color-border-box: var(--sg-text-color, var(--theme-code-foreground, var(--jp-content-font-color1, black)));\n",
       "  --sklearn-color-icon: #696969;\n",
       "\n",
       "  @media (prefers-color-scheme: dark) {\n",
       "    /* Redefinition of color scheme for dark theme */\n",
       "    --sklearn-color-text-on-default-background: var(--sg-text-color, var(--theme-code-foreground, var(--jp-content-font-color1, white)));\n",
       "    --sklearn-color-background: var(--sg-background-color, var(--theme-background, var(--jp-layout-color0, #111)));\n",
       "    --sklearn-color-border-box: var(--sg-text-color, var(--theme-code-foreground, var(--jp-content-font-color1, white)));\n",
       "    --sklearn-color-icon: #878787;\n",
       "  }\n",
       "}\n",
       "\n",
       "#sk-container-id-1 {\n",
       "  color: var(--sklearn-color-text);\n",
       "}\n",
       "\n",
       "#sk-container-id-1 pre {\n",
       "  padding: 0;\n",
       "}\n",
       "\n",
       "#sk-container-id-1 input.sk-hidden--visually {\n",
       "  border: 0;\n",
       "  clip: rect(1px 1px 1px 1px);\n",
       "  clip: rect(1px, 1px, 1px, 1px);\n",
       "  height: 1px;\n",
       "  margin: -1px;\n",
       "  overflow: hidden;\n",
       "  padding: 0;\n",
       "  position: absolute;\n",
       "  width: 1px;\n",
       "}\n",
       "\n",
       "#sk-container-id-1 div.sk-dashed-wrapped {\n",
       "  border: 1px dashed var(--sklearn-color-line);\n",
       "  margin: 0 0.4em 0.5em 0.4em;\n",
       "  box-sizing: border-box;\n",
       "  padding-bottom: 0.4em;\n",
       "  background-color: var(--sklearn-color-background);\n",
       "}\n",
       "\n",
       "#sk-container-id-1 div.sk-container {\n",
       "  /* jupyter's `normalize.less` sets `[hidden] { display: none; }`\n",
       "     but bootstrap.min.css set `[hidden] { display: none !important; }`\n",
       "     so we also need the `!important` here to be able to override the\n",
       "     default hidden behavior on the sphinx rendered scikit-learn.org.\n",
       "     See: https://github.com/scikit-learn/scikit-learn/issues/21755 */\n",
       "  display: inline-block !important;\n",
       "  position: relative;\n",
       "}\n",
       "\n",
       "#sk-container-id-1 div.sk-text-repr-fallback {\n",
       "  display: none;\n",
       "}\n",
       "\n",
       "div.sk-parallel-item,\n",
       "div.sk-serial,\n",
       "div.sk-item {\n",
       "  /* draw centered vertical line to link estimators */\n",
       "  background-image: linear-gradient(var(--sklearn-color-text-on-default-background), var(--sklearn-color-text-on-default-background));\n",
       "  background-size: 2px 100%;\n",
       "  background-repeat: no-repeat;\n",
       "  background-position: center center;\n",
       "}\n",
       "\n",
       "/* Parallel-specific style estimator block */\n",
       "\n",
       "#sk-container-id-1 div.sk-parallel-item::after {\n",
       "  content: \"\";\n",
       "  width: 100%;\n",
       "  border-bottom: 2px solid var(--sklearn-color-text-on-default-background);\n",
       "  flex-grow: 1;\n",
       "}\n",
       "\n",
       "#sk-container-id-1 div.sk-parallel {\n",
       "  display: flex;\n",
       "  align-items: stretch;\n",
       "  justify-content: center;\n",
       "  background-color: var(--sklearn-color-background);\n",
       "  position: relative;\n",
       "}\n",
       "\n",
       "#sk-container-id-1 div.sk-parallel-item {\n",
       "  display: flex;\n",
       "  flex-direction: column;\n",
       "}\n",
       "\n",
       "#sk-container-id-1 div.sk-parallel-item:first-child::after {\n",
       "  align-self: flex-end;\n",
       "  width: 50%;\n",
       "}\n",
       "\n",
       "#sk-container-id-1 div.sk-parallel-item:last-child::after {\n",
       "  align-self: flex-start;\n",
       "  width: 50%;\n",
       "}\n",
       "\n",
       "#sk-container-id-1 div.sk-parallel-item:only-child::after {\n",
       "  width: 0;\n",
       "}\n",
       "\n",
       "/* Serial-specific style estimator block */\n",
       "\n",
       "#sk-container-id-1 div.sk-serial {\n",
       "  display: flex;\n",
       "  flex-direction: column;\n",
       "  align-items: center;\n",
       "  background-color: var(--sklearn-color-background);\n",
       "  padding-right: 1em;\n",
       "  padding-left: 1em;\n",
       "}\n",
       "\n",
       "\n",
       "/* Toggleable style: style used for estimator/Pipeline/ColumnTransformer box that is\n",
       "clickable and can be expanded/collapsed.\n",
       "- Pipeline and ColumnTransformer use this feature and define the default style\n",
       "- Estimators will overwrite some part of the style using the `sk-estimator` class\n",
       "*/\n",
       "\n",
       "/* Pipeline and ColumnTransformer style (default) */\n",
       "\n",
       "#sk-container-id-1 div.sk-toggleable {\n",
       "  /* Default theme specific background. It is overwritten whether we have a\n",
       "  specific estimator or a Pipeline/ColumnTransformer */\n",
       "  background-color: var(--sklearn-color-background);\n",
       "}\n",
       "\n",
       "/* Toggleable label */\n",
       "#sk-container-id-1 label.sk-toggleable__label {\n",
       "  cursor: pointer;\n",
       "  display: block;\n",
       "  width: 100%;\n",
       "  margin-bottom: 0;\n",
       "  padding: 0.5em;\n",
       "  box-sizing: border-box;\n",
       "  text-align: center;\n",
       "}\n",
       "\n",
       "#sk-container-id-1 label.sk-toggleable__label-arrow:before {\n",
       "  /* Arrow on the left of the label */\n",
       "  content: \"▸\";\n",
       "  float: left;\n",
       "  margin-right: 0.25em;\n",
       "  color: var(--sklearn-color-icon);\n",
       "}\n",
       "\n",
       "#sk-container-id-1 label.sk-toggleable__label-arrow:hover:before {\n",
       "  color: var(--sklearn-color-text);\n",
       "}\n",
       "\n",
       "/* Toggleable content - dropdown */\n",
       "\n",
       "#sk-container-id-1 div.sk-toggleable__content {\n",
       "  max-height: 0;\n",
       "  max-width: 0;\n",
       "  overflow: hidden;\n",
       "  text-align: left;\n",
       "  /* unfitted */\n",
       "  background-color: var(--sklearn-color-unfitted-level-0);\n",
       "}\n",
       "\n",
       "#sk-container-id-1 div.sk-toggleable__content.fitted {\n",
       "  /* fitted */\n",
       "  background-color: var(--sklearn-color-fitted-level-0);\n",
       "}\n",
       "\n",
       "#sk-container-id-1 div.sk-toggleable__content pre {\n",
       "  margin: 0.2em;\n",
       "  border-radius: 0.25em;\n",
       "  color: var(--sklearn-color-text);\n",
       "  /* unfitted */\n",
       "  background-color: var(--sklearn-color-unfitted-level-0);\n",
       "}\n",
       "\n",
       "#sk-container-id-1 div.sk-toggleable__content.fitted pre {\n",
       "  /* unfitted */\n",
       "  background-color: var(--sklearn-color-fitted-level-0);\n",
       "}\n",
       "\n",
       "#sk-container-id-1 input.sk-toggleable__control:checked~div.sk-toggleable__content {\n",
       "  /* Expand drop-down */\n",
       "  max-height: 200px;\n",
       "  max-width: 100%;\n",
       "  overflow: auto;\n",
       "}\n",
       "\n",
       "#sk-container-id-1 input.sk-toggleable__control:checked~label.sk-toggleable__label-arrow:before {\n",
       "  content: \"▾\";\n",
       "}\n",
       "\n",
       "/* Pipeline/ColumnTransformer-specific style */\n",
       "\n",
       "#sk-container-id-1 div.sk-label input.sk-toggleable__control:checked~label.sk-toggleable__label {\n",
       "  color: var(--sklearn-color-text);\n",
       "  background-color: var(--sklearn-color-unfitted-level-2);\n",
       "}\n",
       "\n",
       "#sk-container-id-1 div.sk-label.fitted input.sk-toggleable__control:checked~label.sk-toggleable__label {\n",
       "  background-color: var(--sklearn-color-fitted-level-2);\n",
       "}\n",
       "\n",
       "/* Estimator-specific style */\n",
       "\n",
       "/* Colorize estimator box */\n",
       "#sk-container-id-1 div.sk-estimator input.sk-toggleable__control:checked~label.sk-toggleable__label {\n",
       "  /* unfitted */\n",
       "  background-color: var(--sklearn-color-unfitted-level-2);\n",
       "}\n",
       "\n",
       "#sk-container-id-1 div.sk-estimator.fitted input.sk-toggleable__control:checked~label.sk-toggleable__label {\n",
       "  /* fitted */\n",
       "  background-color: var(--sklearn-color-fitted-level-2);\n",
       "}\n",
       "\n",
       "#sk-container-id-1 div.sk-label label.sk-toggleable__label,\n",
       "#sk-container-id-1 div.sk-label label {\n",
       "  /* The background is the default theme color */\n",
       "  color: var(--sklearn-color-text-on-default-background);\n",
       "}\n",
       "\n",
       "/* On hover, darken the color of the background */\n",
       "#sk-container-id-1 div.sk-label:hover label.sk-toggleable__label {\n",
       "  color: var(--sklearn-color-text);\n",
       "  background-color: var(--sklearn-color-unfitted-level-2);\n",
       "}\n",
       "\n",
       "/* Label box, darken color on hover, fitted */\n",
       "#sk-container-id-1 div.sk-label.fitted:hover label.sk-toggleable__label.fitted {\n",
       "  color: var(--sklearn-color-text);\n",
       "  background-color: var(--sklearn-color-fitted-level-2);\n",
       "}\n",
       "\n",
       "/* Estimator label */\n",
       "\n",
       "#sk-container-id-1 div.sk-label label {\n",
       "  font-family: monospace;\n",
       "  font-weight: bold;\n",
       "  display: inline-block;\n",
       "  line-height: 1.2em;\n",
       "}\n",
       "\n",
       "#sk-container-id-1 div.sk-label-container {\n",
       "  text-align: center;\n",
       "}\n",
       "\n",
       "/* Estimator-specific */\n",
       "#sk-container-id-1 div.sk-estimator {\n",
       "  font-family: monospace;\n",
       "  border: 1px dotted var(--sklearn-color-border-box);\n",
       "  border-radius: 0.25em;\n",
       "  box-sizing: border-box;\n",
       "  margin-bottom: 0.5em;\n",
       "  /* unfitted */\n",
       "  background-color: var(--sklearn-color-unfitted-level-0);\n",
       "}\n",
       "\n",
       "#sk-container-id-1 div.sk-estimator.fitted {\n",
       "  /* fitted */\n",
       "  background-color: var(--sklearn-color-fitted-level-0);\n",
       "}\n",
       "\n",
       "/* on hover */\n",
       "#sk-container-id-1 div.sk-estimator:hover {\n",
       "  /* unfitted */\n",
       "  background-color: var(--sklearn-color-unfitted-level-2);\n",
       "}\n",
       "\n",
       "#sk-container-id-1 div.sk-estimator.fitted:hover {\n",
       "  /* fitted */\n",
       "  background-color: var(--sklearn-color-fitted-level-2);\n",
       "}\n",
       "\n",
       "/* Specification for estimator info (e.g. \"i\" and \"?\") */\n",
       "\n",
       "/* Common style for \"i\" and \"?\" */\n",
       "\n",
       ".sk-estimator-doc-link,\n",
       "a:link.sk-estimator-doc-link,\n",
       "a:visited.sk-estimator-doc-link {\n",
       "  float: right;\n",
       "  font-size: smaller;\n",
       "  line-height: 1em;\n",
       "  font-family: monospace;\n",
       "  background-color: var(--sklearn-color-background);\n",
       "  border-radius: 1em;\n",
       "  height: 1em;\n",
       "  width: 1em;\n",
       "  text-decoration: none !important;\n",
       "  margin-left: 1ex;\n",
       "  /* unfitted */\n",
       "  border: var(--sklearn-color-unfitted-level-1) 1pt solid;\n",
       "  color: var(--sklearn-color-unfitted-level-1);\n",
       "}\n",
       "\n",
       ".sk-estimator-doc-link.fitted,\n",
       "a:link.sk-estimator-doc-link.fitted,\n",
       "a:visited.sk-estimator-doc-link.fitted {\n",
       "  /* fitted */\n",
       "  border: var(--sklearn-color-fitted-level-1) 1pt solid;\n",
       "  color: var(--sklearn-color-fitted-level-1);\n",
       "}\n",
       "\n",
       "/* On hover */\n",
       "div.sk-estimator:hover .sk-estimator-doc-link:hover,\n",
       ".sk-estimator-doc-link:hover,\n",
       "div.sk-label-container:hover .sk-estimator-doc-link:hover,\n",
       ".sk-estimator-doc-link:hover {\n",
       "  /* unfitted */\n",
       "  background-color: var(--sklearn-color-unfitted-level-3);\n",
       "  color: var(--sklearn-color-background);\n",
       "  text-decoration: none;\n",
       "}\n",
       "\n",
       "div.sk-estimator.fitted:hover .sk-estimator-doc-link.fitted:hover,\n",
       ".sk-estimator-doc-link.fitted:hover,\n",
       "div.sk-label-container:hover .sk-estimator-doc-link.fitted:hover,\n",
       ".sk-estimator-doc-link.fitted:hover {\n",
       "  /* fitted */\n",
       "  background-color: var(--sklearn-color-fitted-level-3);\n",
       "  color: var(--sklearn-color-background);\n",
       "  text-decoration: none;\n",
       "}\n",
       "\n",
       "/* Span, style for the box shown on hovering the info icon */\n",
       ".sk-estimator-doc-link span {\n",
       "  display: none;\n",
       "  z-index: 9999;\n",
       "  position: relative;\n",
       "  font-weight: normal;\n",
       "  right: .2ex;\n",
       "  padding: .5ex;\n",
       "  margin: .5ex;\n",
       "  width: min-content;\n",
       "  min-width: 20ex;\n",
       "  max-width: 50ex;\n",
       "  color: var(--sklearn-color-text);\n",
       "  box-shadow: 2pt 2pt 4pt #999;\n",
       "  /* unfitted */\n",
       "  background: var(--sklearn-color-unfitted-level-0);\n",
       "  border: .5pt solid var(--sklearn-color-unfitted-level-3);\n",
       "}\n",
       "\n",
       ".sk-estimator-doc-link.fitted span {\n",
       "  /* fitted */\n",
       "  background: var(--sklearn-color-fitted-level-0);\n",
       "  border: var(--sklearn-color-fitted-level-3);\n",
       "}\n",
       "\n",
       ".sk-estimator-doc-link:hover span {\n",
       "  display: block;\n",
       "}\n",
       "\n",
       "/* \"?\"-specific style due to the `<a>` HTML tag */\n",
       "\n",
       "#sk-container-id-1 a.estimator_doc_link {\n",
       "  float: right;\n",
       "  font-size: 1rem;\n",
       "  line-height: 1em;\n",
       "  font-family: monospace;\n",
       "  background-color: var(--sklearn-color-background);\n",
       "  border-radius: 1rem;\n",
       "  height: 1rem;\n",
       "  width: 1rem;\n",
       "  text-decoration: none;\n",
       "  /* unfitted */\n",
       "  color: var(--sklearn-color-unfitted-level-1);\n",
       "  border: var(--sklearn-color-unfitted-level-1) 1pt solid;\n",
       "}\n",
       "\n",
       "#sk-container-id-1 a.estimator_doc_link.fitted {\n",
       "  /* fitted */\n",
       "  border: var(--sklearn-color-fitted-level-1) 1pt solid;\n",
       "  color: var(--sklearn-color-fitted-level-1);\n",
       "}\n",
       "\n",
       "/* On hover */\n",
       "#sk-container-id-1 a.estimator_doc_link:hover {\n",
       "  /* unfitted */\n",
       "  background-color: var(--sklearn-color-unfitted-level-3);\n",
       "  color: var(--sklearn-color-background);\n",
       "  text-decoration: none;\n",
       "}\n",
       "\n",
       "#sk-container-id-1 a.estimator_doc_link.fitted:hover {\n",
       "  /* fitted */\n",
       "  background-color: var(--sklearn-color-fitted-level-3);\n",
       "}\n",
       "</style><div id=\"sk-container-id-1\" class=\"sk-top-container\"><div class=\"sk-text-repr-fallback\"><pre>GaussianNB()</pre><b>In a Jupyter environment, please rerun this cell to show the HTML representation or trust the notebook. <br />On GitHub, the HTML representation is unable to render, please try loading this page with nbviewer.org.</b></div><div class=\"sk-container\" hidden><div class=\"sk-item\"><div class=\"sk-estimator fitted sk-toggleable\"><input class=\"sk-toggleable__control sk-hidden--visually\" id=\"sk-estimator-id-1\" type=\"checkbox\" checked><label for=\"sk-estimator-id-1\" class=\"sk-toggleable__label fitted sk-toggleable__label-arrow fitted\">&nbsp;&nbsp;GaussianNB<a class=\"sk-estimator-doc-link fitted\" rel=\"noreferrer\" target=\"_blank\" href=\"https://scikit-learn.org/1.4/modules/generated/sklearn.naive_bayes.GaussianNB.html\">?<span>Documentation for GaussianNB</span></a><span class=\"sk-estimator-doc-link fitted\">i<span>Fitted</span></span></label><div class=\"sk-toggleable__content fitted\"><pre>GaussianNB()</pre></div> </div></div></div></div>"
      ],
      "text/plain": [
       "GaussianNB()"
      ]
     },
     "execution_count": 64,
     "metadata": {},
     "output_type": "execute_result"
    }
   ],
   "source": [
    "# train a Gaussian Naive Bayes classifier on the training set\n",
    "from sklearn.naive_bayes import GaussianNB\n",
    "\n",
    "\n",
    "# instantiate the model\n",
    "gnb = GaussianNB()\n",
    "\n",
    "\n",
    "# fit the model\n",
    "gnb.fit(X_train, y_train)"
   ]
  },
  {
   "cell_type": "raw",
   "id": "729d10e1-f814-45b5-aa63-5639e2c2321e",
   "metadata": {},
   "source": [
    "Predict the results"
   ]
  },
  {
   "cell_type": "code",
   "execution_count": 65,
   "id": "e658f771-1ff9-4618-aa99-10199924aba4",
   "metadata": {},
   "outputs": [
    {
     "data": {
      "text/plain": [
       "array([' <=50K', ' <=50K', ' <=50K', ..., ' <=50K', ' <=50K', ' >50K'],\n",
       "      dtype='<U6')"
      ]
     },
     "execution_count": 65,
     "metadata": {},
     "output_type": "execute_result"
    }
   ],
   "source": [
    "y_pred = gnb.predict(X_test)\n",
    "\n",
    "y_pred"
   ]
  },
  {
   "cell_type": "raw",
   "id": "42d4a871-8531-44e2-b20d-1d0ce179c69f",
   "metadata": {},
   "source": [
    "Check accuracy score"
   ]
  },
  {
   "cell_type": "code",
   "execution_count": 66,
   "id": "ee3eb1aa-232d-4875-855e-0bc3122b14e9",
   "metadata": {},
   "outputs": [
    {
     "name": "stdout",
     "output_type": "stream",
     "text": [
      "Model accuracy score: 0.7995\n"
     ]
    }
   ],
   "source": [
    "from sklearn.metrics import accuracy_score\n",
    "\n",
    "print('Model accuracy score: {0:0.4f}'. format(accuracy_score(y_test, y_pred)))"
   ]
  },
  {
   "cell_type": "raw",
   "id": "9d7ad65e-474a-45e1-8e4e-c3da582614c4",
   "metadata": {},
   "source": [
    "Compare the train-set and test-set accuracy"
   ]
  },
  {
   "cell_type": "code",
   "execution_count": 67,
   "id": "60426025-8ee0-4226-bab3-895faac128c7",
   "metadata": {},
   "outputs": [
    {
     "data": {
      "text/plain": [
       "array([' >50K', ' <=50K', ' <=50K', ..., ' <=50K', ' >50K', ' <=50K'],\n",
       "      dtype='<U6')"
      ]
     },
     "execution_count": 67,
     "metadata": {},
     "output_type": "execute_result"
    }
   ],
   "source": [
    "y_pred_train = gnb.predict(X_train)\n",
    "\n",
    "y_pred_train"
   ]
  },
  {
   "cell_type": "code",
   "execution_count": 68,
   "id": "8149a4ae-566e-4d5e-a871-925941a46e91",
   "metadata": {},
   "outputs": [
    {
     "name": "stdout",
     "output_type": "stream",
     "text": [
      "Training-set accuracy score: 0.8023\n"
     ]
    }
   ],
   "source": [
    "print('Training-set accuracy score: {0:0.4f}'. format(accuracy_score(y_train, y_pred_train)))"
   ]
  },
  {
   "cell_type": "raw",
   "id": "0d98bd08-475e-4f42-899c-f18258e2c9a6",
   "metadata": {},
   "source": [
    "Check for overfitting and underfitting"
   ]
  },
  {
   "cell_type": "code",
   "execution_count": 69,
   "id": "47f1fd0a-1b8a-473d-b9a7-1322a37dbe7b",
   "metadata": {},
   "outputs": [
    {
     "name": "stdout",
     "output_type": "stream",
     "text": [
      "Training set score: 0.8023\n",
      "Test set score: 0.7995\n"
     ]
    }
   ],
   "source": [
    "# print the scores on training and test set\n",
    "\n",
    "print('Training set score: {:.4f}'.format(gnb.score(X_train, y_train)))\n",
    "\n",
    "print('Test set score: {:.4f}'.format(gnb.score(X_test, y_test)))"
   ]
  },
  {
   "cell_type": "raw",
   "id": "12595ad4-26fc-491c-966a-c8d1ccb94938",
   "metadata": {},
   "source": [
    "The training-set accuracy score is 0.8023 while the test-set accuracy to be 0.7995. These two values are quite comparable. So, there is no sign of overfitting"
   ]
  },
  {
   "cell_type": "raw",
   "id": "20fec5ad-a4e8-418a-a268-b694e0d6616e",
   "metadata": {},
   "source": [
    "Compare model accuracy with null accuracy"
   ]
  },
  {
   "cell_type": "code",
   "execution_count": 70,
   "id": "2cab742b-8913-480f-978d-223b5bb1fdaf",
   "metadata": {},
   "outputs": [
    {
     "data": {
      "text/plain": [
       "Salary\n",
       " <=50K    6798\n",
       " >50K     2251\n",
       "Name: count, dtype: int64"
      ]
     },
     "execution_count": 70,
     "metadata": {},
     "output_type": "execute_result"
    }
   ],
   "source": [
    "# check class distribution in test set\n",
    "\n",
    "y_test.value_counts()"
   ]
  },
  {
   "cell_type": "code",
   "execution_count": 71,
   "id": "ab55e09f-f246-4943-b1d2-bfd67efcc188",
   "metadata": {},
   "outputs": [
    {
     "name": "stdout",
     "output_type": "stream",
     "text": [
      "Null accuracy score: 0.7582\n"
     ]
    }
   ],
   "source": [
    "# check null accuracy score\n",
    "\n",
    "null_accuracy = (7407/(7407+2362))\n",
    "\n",
    "print('Null accuracy score: {0:0.4f}'. format(null_accuracy))"
   ]
  },
  {
   "cell_type": "raw",
   "id": "7495bad7-c535-4517-8378-50c6d47c7ea0",
   "metadata": {},
   "source": [
    "Confusion matrix"
   ]
  },
  {
   "cell_type": "code",
   "execution_count": 72,
   "id": "fe4b3780-c780-406b-83cb-f37ae0a96dc6",
   "metadata": {},
   "outputs": [
    {
     "name": "stdout",
     "output_type": "stream",
     "text": [
      "Confusion matrix\n",
      "\n",
      " [[5422 1376]\n",
      " [ 438 1813]]\n",
      "\n",
      "True Positives(TP) =  5422\n",
      "\n",
      "True Negatives(TN) =  1813\n",
      "\n",
      "False Positives(FP) =  1376\n",
      "\n",
      "False Negatives(FN) =  438\n"
     ]
    }
   ],
   "source": [
    "# Print the Confusion Matrix and slice it into four pieces\n",
    "\n",
    "from sklearn.metrics import confusion_matrix\n",
    "\n",
    "cm = confusion_matrix(y_test, y_pred)\n",
    "\n",
    "print('Confusion matrix\\n\\n', cm)\n",
    "\n",
    "print('\\nTrue Positives(TP) = ', cm[0,0])\n",
    "\n",
    "print('\\nTrue Negatives(TN) = ', cm[1,1])\n",
    "\n",
    "print('\\nFalse Positives(FP) = ', cm[0,1])\n",
    "\n",
    "print('\\nFalse Negatives(FN) = ', cm[1,0])"
   ]
  },
  {
   "cell_type": "code",
   "execution_count": 73,
   "id": "e495ca70-5f25-457c-86d5-e9ebf0a0699a",
   "metadata": {},
   "outputs": [
    {
     "data": {
      "text/plain": [
       "<Axes: >"
      ]
     },
     "execution_count": 73,
     "metadata": {},
     "output_type": "execute_result"
    },
    {
     "data": {
      "image/png": "[encoded data removed]",
      "text/plain": [
       "<Figure size 640x480 with 2 Axes>"
      ]
     },
     "metadata": {},
     "output_type": "display_data"
    }
   ],
   "source": [
    "# visualize confusion matrix with seaborn heatmap\n",
    "\n",
    "cm_matrix = pd.DataFrame(data=cm, columns=['Actual Positive:1', 'Actual Negative:0'], \n",
    "                                 index=['Predict Positive:1', 'Predict Negative:0'])\n",
    "\n",
    "sns.heatmap(cm_matrix, annot=True, fmt='d', cmap='YlGnBu')"
   ]
  },
  {
   "cell_type": "raw",
   "id": "f61b30cc-5b49-42c8-8e1e-0f34a0412587",
   "metadata": {},
   "source": [
    "Classification metrices"
   ]
  },
  {
   "cell_type": "code",
   "execution_count": 74,
   "id": "d6219e81-7464-4779-91a7-afabf6693cb9",
   "metadata": {},
   "outputs": [
    {
     "name": "stdout",
     "output_type": "stream",
     "text": [
      "              precision    recall  f1-score   support\n",
      "\n",
      "       <=50K       0.93      0.80      0.86      6798\n",
      "        >50K       0.57      0.81      0.67      2251\n",
      "\n",
      "    accuracy                           0.80      9049\n",
      "   macro avg       0.75      0.80      0.76      9049\n",
      "weighted avg       0.84      0.80      0.81      9049\n",
      "\n"
     ]
    }
   ],
   "source": [
    "from sklearn.metrics import classification_report\n",
    "\n",
    "print(classification_report(y_test, y_pred))"
   ]
  },
  {
   "cell_type": "raw",
   "id": "f696b3b1-5658-4b39-84a5-921fa2bec6fb",
   "metadata": {},
   "source": [
    "Classification accuracy"
   ]
  },
  {
   "cell_type": "code",
   "execution_count": 75,
   "id": "33297c5a-040f-49d5-9802-cc843445878f",
   "metadata": {},
   "outputs": [],
   "source": [
    "TP = cm[0,0]\n",
    "TN = cm[1,1]\n",
    "FP = cm[0,1]\n",
    "FN = cm[1,0]"
   ]
  },
  {
   "cell_type": "code",
   "execution_count": 76,
   "id": "aaa4e4ef-0321-4bf1-ba76-996b06533d8d",
   "metadata": {},
   "outputs": [
    {
     "name": "stdout",
     "output_type": "stream",
     "text": [
      "Classification accuracy : 0.7995\n"
     ]
    }
   ],
   "source": [
    "# print classification accuracy\n",
    "\n",
    "classification_accuracy = (TP + TN) / float(TP + TN + FP + FN)\n",
    "\n",
    "print('Classification accuracy : {0:0.4f}'.format(classification_accuracy))"
   ]
  },
  {
   "cell_type": "raw",
   "id": "16e114fb-aadb-456f-aa7b-23fdfc3b914b",
   "metadata": {},
   "source": [
    "Classification error"
   ]
  },
  {
   "cell_type": "code",
   "execution_count": 77,
   "id": "ee296456-8ba5-4488-b6d3-a82424e42e81",
   "metadata": {},
   "outputs": [
    {
     "name": "stdout",
     "output_type": "stream",
     "text": [
      "Classification error : 0.2005\n"
     ]
    }
   ],
   "source": [
    "# print classification error\n",
    "\n",
    "classification_error = (FP + FN) / float(TP + TN + FP + FN)\n",
    "\n",
    "print('Classification error : {0:0.4f}'.format(classification_error))"
   ]
  },
  {
   "cell_type": "raw",
   "id": "3df7349f-4180-4768-8a92-676b75877488",
   "metadata": {},
   "source": [
    "Precision"
   ]
  },
  {
   "cell_type": "code",
   "execution_count": 78,
   "id": "a645a3e9-b527-4704-bed4-5e0ecdffe3a1",
   "metadata": {},
   "outputs": [
    {
     "name": "stdout",
     "output_type": "stream",
     "text": [
      "Precision : 0.7976\n"
     ]
    }
   ],
   "source": [
    "# print precision score\n",
    "\n",
    "precision = TP / float(TP + FP)\n",
    "\n",
    "\n",
    "print('Precision : {0:0.4f}'.format(precision))"
   ]
  },
  {
   "cell_type": "raw",
   "id": "42d534f3-27b0-43e5-bb2f-f6134d21786d",
   "metadata": {},
   "source": [
    "Recall"
   ]
  },
  {
   "cell_type": "code",
   "execution_count": 79,
   "id": "cd07ea80-ba1e-4a59-b8f1-86afc6203752",
   "metadata": {},
   "outputs": [
    {
     "name": "stdout",
     "output_type": "stream",
     "text": [
      "Recall or Sensitivity : 0.9253\n"
     ]
    }
   ],
   "source": [
    "recall = TP / float(TP + FN)\n",
    "\n",
    "print('Recall or Sensitivity : {0:0.4f}'.format(recall))"
   ]
  },
  {
   "cell_type": "code",
   "execution_count": 80,
   "id": "af270df7-23f9-432c-b421-a547e667a43a",
   "metadata": {},
   "outputs": [
    {
     "name": "stdout",
     "output_type": "stream",
     "text": [
      "True Positive Rate : 0.9253\n"
     ]
    }
   ],
   "source": [
    "true_positive_rate = TP / float(TP + FN)\n",
    "\n",
    "\n",
    "print('True Positive Rate : {0:0.4f}'.format(true_positive_rate))"
   ]
  },
  {
   "cell_type": "raw",
   "id": "b7589950-2653-43d8-8c33-2110397a2dbb",
   "metadata": {},
   "source": [
    "False Positive Rate"
   ]
  },
  {
   "cell_type": "code",
   "execution_count": 81,
   "id": "ae198be9-aec8-4110-9908-00912c8da6c3",
   "metadata": {},
   "outputs": [
    {
     "name": "stdout",
     "output_type": "stream",
     "text": [
      "False Positive Rate : 0.4315\n"
     ]
    }
   ],
   "source": [
    "false_positive_rate = FP / float(FP + TN)\n",
    "\n",
    "\n",
    "print('False Positive Rate : {0:0.4f}'.format(false_positive_rate))"
   ]
  },
  {
   "cell_type": "raw",
   "id": "00481b49-0477-46d5-8eef-b4c0a73308d2",
   "metadata": {},
   "source": [
    "Specificity"
   ]
  },
  {
   "cell_type": "code",
   "execution_count": 82,
   "id": "206bc6ac-3b9c-4237-965b-d25d38e65c50",
   "metadata": {},
   "outputs": [
    {
     "name": "stdout",
     "output_type": "stream",
     "text": [
      "Specificity : 0.5685\n"
     ]
    }
   ],
   "source": [
    "specificity = TN / (TN + FP)\n",
    "\n",
    "print('Specificity : {0:0.4f}'.format(specificity))"
   ]
  },
  {
   "cell_type": "raw",
   "id": "441b932a-7826-4e9b-b1ac-75c1611fafda",
   "metadata": {},
   "source": [
    "Calculate class probabilities"
   ]
  },
  {
   "cell_type": "code",
   "execution_count": 83,
   "id": "aa45edf4-4485-4727-820d-203f633bbde7",
   "metadata": {},
   "outputs": [
    {
     "data": {
      "text/plain": [
       "array([[9.99955511e-01, 4.44887598e-05],\n",
       "       [9.95935549e-01, 4.06445120e-03],\n",
       "       [8.63901480e-01, 1.36098520e-01],\n",
       "       [9.99999906e-01, 9.37239455e-08],\n",
       "       [8.80888343e-02, 9.11911166e-01],\n",
       "       [9.99562896e-01, 4.37103927e-04],\n",
       "       [5.34482750e-06, 9.99994655e-01],\n",
       "       [6.28497161e-01, 3.71502839e-01],\n",
       "       [5.46536963e-04, 9.99453463e-01],\n",
       "       [9.99999570e-01, 4.30495598e-07]])"
      ]
     },
     "execution_count": 83,
     "metadata": {},
     "output_type": "execute_result"
    }
   ],
   "source": [
    "# print the first 10 predicted probabilities of two classes- 0 and 1\n",
    "\n",
    "y_pred_prob = gnb.predict_proba(X_test)[0:10]\n",
    "\n",
    "y_pred_prob"
   ]
  },
  {
   "cell_type": "code",
   "execution_count": 84,
   "id": "608887df-736f-4240-9ceb-1f0837308de3",
   "metadata": {},
   "outputs": [
    {
     "data": {
      "text/html": [
       "<div>\n",
       "<style scoped>\n",
       "    .dataframe tbody tr th:only-of-type {\n",
       "        vertical-align: middle;\n",
       "    }\n",
       "\n",
       "    .dataframe tbody tr th {\n",
       "        vertical-align: top;\n",
       "    }\n",
       "\n",
       "    .dataframe thead th {\n",
       "        text-align: right;\n",
       "    }\n",
       "</style>\n",
       "<table border=\"1\" class=\"dataframe\">\n",
       "  <thead>\n",
       "    <tr style=\"text-align: right;\">\n",
       "      <th></th>\n",
       "      <th>Prob of - &lt;=50K</th>\n",
       "      <th>Prob of - &gt;50K</th>\n",
       "    </tr>\n",
       "  </thead>\n",
       "  <tbody>\n",
       "    <tr>\n",
       "      <th>0</th>\n",
       "      <td>0.999956</td>\n",
       "      <td>4.448876e-05</td>\n",
       "    </tr>\n",
       "    <tr>\n",
       "      <th>1</th>\n",
       "      <td>0.995936</td>\n",
       "      <td>4.064451e-03</td>\n",
       "    </tr>\n",
       "    <tr>\n",
       "      <th>2</th>\n",
       "      <td>0.863901</td>\n",
       "      <td>1.360985e-01</td>\n",
       "    </tr>\n",
       "    <tr>\n",
       "      <th>3</th>\n",
       "      <td>1.000000</td>\n",
       "      <td>9.372395e-08</td>\n",
       "    </tr>\n",
       "    <tr>\n",
       "      <th>4</th>\n",
       "      <td>0.088089</td>\n",
       "      <td>9.119112e-01</td>\n",
       "    </tr>\n",
       "    <tr>\n",
       "      <th>5</th>\n",
       "      <td>0.999563</td>\n",
       "      <td>4.371039e-04</td>\n",
       "    </tr>\n",
       "    <tr>\n",
       "      <th>6</th>\n",
       "      <td>0.000005</td>\n",
       "      <td>9.999947e-01</td>\n",
       "    </tr>\n",
       "    <tr>\n",
       "      <th>7</th>\n",
       "      <td>0.628497</td>\n",
       "      <td>3.715028e-01</td>\n",
       "    </tr>\n",
       "    <tr>\n",
       "      <th>8</th>\n",
       "      <td>0.000547</td>\n",
       "      <td>9.994535e-01</td>\n",
       "    </tr>\n",
       "    <tr>\n",
       "      <th>9</th>\n",
       "      <td>1.000000</td>\n",
       "      <td>4.304956e-07</td>\n",
       "    </tr>\n",
       "  </tbody>\n",
       "</table>\n",
       "</div>"
      ],
      "text/plain": [
       "   Prob of - <=50K  Prob of - >50K\n",
       "0         0.999956    4.448876e-05\n",
       "1         0.995936    4.064451e-03\n",
       "2         0.863901    1.360985e-01\n",
       "3         1.000000    9.372395e-08\n",
       "4         0.088089    9.119112e-01\n",
       "5         0.999563    4.371039e-04\n",
       "6         0.000005    9.999947e-01\n",
       "7         0.628497    3.715028e-01\n",
       "8         0.000547    9.994535e-01\n",
       "9         1.000000    4.304956e-07"
      ]
     },
     "execution_count": 84,
     "metadata": {},
     "output_type": "execute_result"
    }
   ],
   "source": [
    "# store the probabilities in dataframe\n",
    "\n",
    "y_pred_prob_df = pd.DataFrame(data=y_pred_prob, columns=['Prob of - <=50K', 'Prob of - >50K'])\n",
    "\n",
    "y_pred_prob_df"
   ]
  },
  {
   "cell_type": "code",
   "execution_count": 85,
   "id": "5d531fc2-0a5c-47da-948f-e265282a1569",
   "metadata": {},
   "outputs": [
    {
     "data": {
      "text/plain": [
       "array([4.44887598e-05, 4.06445120e-03, 1.36098520e-01, 9.37239455e-08,\n",
       "       9.11911166e-01, 4.37103927e-04, 9.99994655e-01, 3.71502839e-01,\n",
       "       9.99453463e-01, 4.30495598e-07])"
      ]
     },
     "execution_count": 85,
     "metadata": {},
     "output_type": "execute_result"
    }
   ],
   "source": [
    "# print the first 10 predicted probabilities for class 1 - Probability of >50K\n",
    "\n",
    "gnb.predict_proba(X_test)[0:10, 1]"
   ]
  },
  {
   "cell_type": "code",
   "execution_count": 86,
   "id": "9f9d8f4c-019f-4ba5-916d-e307819a757c",
   "metadata": {},
   "outputs": [],
   "source": [
    "# store the predicted probabilities for class 1 - Probability of >50K\n",
    "\n",
    "y_pred1 = gnb.predict_proba(X_test)[:, 1]"
   ]
  },
  {
   "cell_type": "code",
   "execution_count": 87,
   "id": "afdd5247-6afb-4970-8e6c-a092fa1ba6da",
   "metadata": {},
   "outputs": [
    {
     "data": {
      "text/plain": [
       "Text(0, 0.5, 'Frequency')"
      ]
     },
     "execution_count": 87,
     "metadata": {},
     "output_type": "execute_result"
    },
    {
     "data": {
      "image/png": "[encoded data removed]",
      "text/plain": [
       "<Figure size 640x480 with 1 Axes>"
      ]
     },
     "metadata": {},
     "output_type": "display_data"
    }
   ],
   "source": [
    "# plot histogram of predicted probabilities\n",
    "\n",
    "\n",
    "# adjust the font size \n",
    "plt.rcParams['font.size'] = 12\n",
    "\n",
    "\n",
    "# plot histogram with 10 bins\n",
    "plt.hist(y_pred1, bins = 10)\n",
    "\n",
    "\n",
    "# set the title of predicted probabilities\n",
    "plt.title('Histogram of predicted probabilities of salaries >50K')\n",
    "\n",
    "\n",
    "# set the x-axis limit\n",
    "plt.xlim(0,1)\n",
    "\n",
    "\n",
    "# set the title\n",
    "plt.xlabel('Predicted probabilities of salaries >50K')\n",
    "plt.ylabel('Frequency')"
   ]
  },
  {
   "cell_type": "raw",
   "id": "7ca2a2fe-358f-488c-bcca-2df1cf95d6f0",
   "metadata": {},
   "source": [
    "ROC - AUC"
   ]
  },
  {
   "cell_type": "code",
   "execution_count": 88,
   "id": "016df7ad-a8a8-413d-a3df-1893ebd0351f",
   "metadata": {},
   "outputs": [
    {
     "data": {
      "image/png": "[encoded data removed]",
      "text/plain": [
       "<Figure size 600x400 with 1 Axes>"
      ]
     },
     "metadata": {},
     "output_type": "display_data"
    }
   ],
   "source": [
    "# plot ROC Curve\n",
    "\n",
    "from sklearn.metrics import roc_curve\n",
    "\n",
    "fpr, tpr, thresholds = roc_curve(y_test, y_pred1, pos_label = '>50K')\n",
    "\n",
    "plt.figure(figsize=(6,4))\n",
    "\n",
    "plt.plot(fpr, tpr, linewidth=2)\n",
    "\n",
    "plt.plot([0,1], [0,1], 'k--' )\n",
    "\n",
    "plt.rcParams['font.size'] = 12\n",
    "\n",
    "plt.title('ROC curve for Gaussian Naive Bayes Classifier for Predicting Salaries')\n",
    "\n",
    "plt.xlabel('False Positive Rate (1 - Specificity)')\n",
    "\n",
    "plt.ylabel('True Positive Rate (Sensitivity)')\n",
    "\n",
    "plt.show()"
   ]
  },
  {
   "cell_type": "code",
   "execution_count": 89,
   "id": "0be06c3f-2f5b-4f81-8d0d-c051d6d07d47",
   "metadata": {},
   "outputs": [
    {
     "name": "stdout",
     "output_type": "stream",
     "text": [
      "ROC AUC : 0.8902\n"
     ]
    }
   ],
   "source": [
    "# compute ROC AUC\n",
    "\n",
    "from sklearn.metrics import roc_auc_score\n",
    "\n",
    "ROC_AUC = roc_auc_score(y_test, y_pred1)\n",
    "\n",
    "print('ROC AUC : {:.4f}'.format(ROC_AUC))"
   ]
  },
  {
   "cell_type": "raw",
   "id": "38485b27-9589-4c5f-ab15-5bd959a2eb0c",
   "metadata": {},
   "source": [
    "Interpretation"
   ]
  },
  {
   "cell_type": "code",
   "execution_count": 90,
   "id": "91bc0dd3-fa66-4b45-bde0-e425c4711bc1",
   "metadata": {},
   "outputs": [
    {
     "name": "stdout",
     "output_type": "stream",
     "text": [
      "Cross validated ROC AUC : 0.8923\n"
     ]
    }
   ],
   "source": [
    "# calculate cross-validated ROC AUC \n",
    "\n",
    "from sklearn.model_selection import cross_val_score\n",
    "\n",
    "Cross_validated_ROC_AUC = cross_val_score(gnb, X_train, y_train, cv=5, scoring='roc_auc').mean()\n",
    "\n",
    "print('Cross validated ROC AUC : {:.4f}'.format(Cross_validated_ROC_AUC))"
   ]
  },
  {
   "cell_type": "raw",
   "id": "926768e8-aad9-4ce7-8806-6d30276121b7",
   "metadata": {},
   "source": [
    "k-Fold Cross Validation"
   ]
  },
  {
   "cell_type": "code",
   "execution_count": 91,
   "id": "b0ba2eeb-40b6-4650-a9d5-14ecbf921b74",
   "metadata": {},
   "outputs": [
    {
     "name": "stdout",
     "output_type": "stream",
     "text": [
      "Cross-validation scores:[0.81676136 0.79829545 0.79014685 0.81288489 0.80388441 0.79062056\n",
      " 0.80767409 0.7925154  0.79630507 0.80909522]\n"
     ]
    }
   ],
   "source": [
    "# Applying 10-Fold Cross Validation\n",
    "\n",
    "from sklearn.model_selection import cross_val_score\n",
    "\n",
    "scores = cross_val_score(gnb, X_train, y_train, cv = 10, scoring='accuracy')\n",
    "\n",
    "print('Cross-validation scores:{}'.format(scores))"
   ]
  },
  {
   "cell_type": "code",
   "execution_count": 92,
   "id": "bc68664d-86b6-465a-badd-f0a4a0094f6e",
   "metadata": {},
   "outputs": [
    {
     "name": "stdout",
     "output_type": "stream",
     "text": [
      "Average cross-validation score: 0.8018\n"
     ]
    }
   ],
   "source": [
    "# compute Average cross-validation score\n",
    "\n",
    "print('Average cross-validation score: {:.4f}'.format(scores.mean()))"
   ]
  },
  {
   "cell_type": "code",
   "execution_count": null,
   "id": "6027f40a-7d52-4c56-b840-4fa77ee40d72",
   "metadata": {},
   "outputs": [],
   "source": []
  }
 ],
 "metadata": {
  "kernelspec": {
   "display_name": "Python 3 (ipykernel)",
   "language": "python",
   "name": "python3"
  },
  "language_info": {
   "codemirror_mode": {
    "name": "ipython",
    "version": 3
   },
   "file_extension": ".py",
   "mimetype": "text/x-python",
   "name": "python",
   "nbconvert_exporter": "python",
   "pygments_lexer": "ipython3",
   "version": "3.11.7"
  }
 },
 "nbformat": 4,
 "nbformat_minor": 5
}
